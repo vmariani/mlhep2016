{
 "cells": [
  {
   "cell_type": "code",
   "execution_count": 1,
   "metadata": {
    "collapsed": false
   },
   "outputs": [
    {
     "name": "stdout",
     "output_type": "stream",
     "text": [
      "remote: Counting objects: 26, done.\u001b[K\n",
      "remote: Total 26 (delta 8), reused 8 (delta 8), pack-reused 18\u001b[K\n",
      "Unpacking objects: 100% (26/26), done.\n",
      "From https://github.com/yandexdataschool/mlhep2016\n",
      "   e214fa4..2237bd2  master     -> origin/master\n",
      "Updating e214fa4..2237bd2\n",
      "Fast-forward\n",
      " day_3/VicensGaitain_DataDoping.pdf      | Bin \u001b[31m0\u001b[m -> \u001b[32m1933658\u001b[m bytes\n",
      " day_3/basic_lectures/Lectures56.pdf     | Bin \u001b[31m6799094\u001b[m -> \u001b[32m6857574\u001b[m bytes\n",
      " day_4/lectures/Reweighting-Flatness.pdf | Bin \u001b[31m0\u001b[m -> \u001b[32m3428919\u001b[m bytes\n",
      " day_4/seminars/1-reweighting.ipynb      | 478 \u001b[32m+++++++++++++++++++++++++++\u001b[m\n",
      " day_4/seminars/2-uniform-boosting.ipynb | 559 \u001b[32m++++++++++++++++++++++++++++++++\u001b[m\n",
      " day_4/seminars/datasets/flatness.root   | Bin \u001b[31m0\u001b[m -> \u001b[32m1773846\u001b[m bytes\n",
      " day_4/seminars/datasets/original.root   | Bin \u001b[31m0\u001b[m -> \u001b[32m17022626\u001b[m bytes\n",
      " day_4/seminars/datasets/target.root     | Bin \u001b[31m0\u001b[m -> \u001b[32m16828278\u001b[m bytes\n",
      " glossary.md                             |  51 \u001b[32m+++\u001b[m\n",
      " 9 files changed, 1088 insertions(+)\n",
      " create mode 100644 day_3/VicensGaitain_DataDoping.pdf\n",
      " create mode 100644 day_4/lectures/Reweighting-Flatness.pdf\n",
      " create mode 100644 day_4/seminars/1-reweighting.ipynb\n",
      " create mode 100644 day_4/seminars/2-uniform-boosting.ipynb\n",
      " create mode 100644 day_4/seminars/datasets/flatness.root\n",
      " create mode 100644 day_4/seminars/datasets/original.root\n",
      " create mode 100644 day_4/seminars/datasets/target.root\n"
     ]
    }
   ],
   "source": [
    "!git pull"
   ]
  },
  {
   "cell_type": "code",
   "execution_count": null,
   "metadata": {
    "collapsed": true
   },
   "outputs": [],
   "source": []
  }
 ],
 "metadata": {
  "kernelspec": {
   "display_name": "Python 2",
   "language": "python",
   "name": "python2"
  },
  "language_info": {
   "codemirror_mode": {
    "name": "ipython",
    "version": 2
   },
   "file_extension": ".py",
   "mimetype": "text/x-python",
   "name": "python",
   "nbconvert_exporter": "python",
   "pygments_lexer": "ipython2",
   "version": "2.7.11"
  }
 },
 "nbformat": 4,
 "nbformat_minor": 0
}
