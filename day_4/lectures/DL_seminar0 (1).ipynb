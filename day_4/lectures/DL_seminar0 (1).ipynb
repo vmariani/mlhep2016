{
 "cells": [
  {
   "cell_type": "markdown",
   "metadata": {},
   "source": [
    "# Theano, Lasagne\n",
    "and why they matter\n",
    "\n",
    "\n",
    "### got no lasagne?\n",
    "Install the __bleeding edge__ version from here: http://lasagne.readthedocs.org/en/latest/user/installation.html"
   ]
  },
  {
   "cell_type": "code",
   "execution_count": 1,
   "metadata": {
    "collapsed": false
   },
   "outputs": [
    {
     "name": "stdout",
     "output_type": "stream",
     "text": [
      "Fetching package metadata: ....\n",
      "Solving package specifications: .................\n",
      "Package plan for installation in environment /root/miniconda/envs/rep_py2:\n",
      "\n",
      "The following packages will be downloaded:\n",
      "\n",
      "    package                    |            build\n",
      "    ---------------------------|-----------------\n",
      "    libgfortran-3.0.0          |                1         281 KB\n",
      "    mkl-11.3.3                 |                0       122.1 MB\n",
      "    numpy-1.11.0               |           py27_1         6.2 MB\n",
      "    pip-8.1.2                  |           py27_0         1.5 MB\n",
      "    scipy-0.17.1               |      np111py27_0        30.1 MB\n",
      "    ------------------------------------------------------------\n",
      "                                           Total:       160.2 MB\n",
      "\n",
      "The following packages will be UPDATED:\n",
      "\n",
      "    libgfortran: 1.0-0              --> 3.0.0-1           \n",
      "    mkl:         11.3.1-0           --> 11.3.3-0          \n",
      "    numpy:       1.10.4-py27_1      --> 1.11.0-py27_1     \n",
      "    pip:         8.1.1-py27_1       --> 8.1.2-py27_0      \n",
      "    scipy:       0.17.0-np110py27_1 --> 0.17.1-np111py27_0\n",
      "\n",
      "Fetching packages ...\n",
      "libgfortran-3. 100% |################################| Time: 0:00:01 229.19 kB/s\n",
      "mkl-11.3.3-0.t 100% |################################| Time: 0:00:10  12.32 MB/s\n",
      "numpy-1.11.0-p 100% |################################| Time: 0:00:04   1.42 MB/s\n",
      "pip-8.1.2-py27 100% |################################| Time: 0:00:03 518.97 kB/s\n",
      "scipy-0.17.1-n 100% |################################| Time: 0:00:06   4.83 MB/s\n",
      "Extracting packages ...\n",
      "[      COMPLETE      ]|###################################################| 100%\n",
      "Unlinking packages ...\n",
      "[      COMPLETE      ]|###################################################| 100%\n",
      "Linking packages ...\n",
      "[      COMPLETE      ]|###################################################| 100%\n",
      "Collecting sklearn\n",
      "  Downloading sklearn-0.0.tar.gz\n",
      "Collecting scikit-learn (from sklearn)\n",
      "  Downloading scikit_learn-0.17.1-cp27-cp27mu-manylinux1_x86_64.whl (17.6MB)\n",
      "\u001b[K    100% |################################| 17.6MB 73kB/s \n",
      "\u001b[?25hBuilding wheels for collected packages: sklearn\n",
      "  Running setup.py bdist_wheel for sklearn ... \u001b[?25l-\b \b\\\b \bdone\n",
      "\u001b[?25h  Stored in directory: /root/.cache/pip/wheels/d7/db/a3/1b8041ab0be63b5c96c503df8e757cf205c2848cf9ef55f85e\n",
      "Successfully built sklearn\n",
      "Installing collected packages: scikit-learn, sklearn\n",
      "  Found existing installation: scikit-learn 0.16.1\n",
      "\u001b[33m    DEPRECATION: Uninstalling a distutils installed project (scikit-learn) has been deprecated and will be removed in a future version. This is due to the fact that uninstalling a distutils project will only partially uninstall the project.\u001b[0m\n",
      "    Uninstalling scikit-learn-0.16.1:\n",
      "      Successfully uninstalled scikit-learn-0.16.1\n",
      "Successfully installed scikit-learn-0.17.1 sklearn-0.0\n"
     ]
    }
   ],
   "source": [
    "##RUN ME##\n",
    "!conda install scipy --yes\n",
    "!pip install --upgrade sklearn"
   ]
  },
  {
   "cell_type": "code",
   "execution_count": 2,
   "metadata": {
    "collapsed": true
   },
   "outputs": [],
   "source": [
    "import matplotlib.pyplot as plt\n",
    "%matplotlib inline"
   ]
  },
  {
   "cell_type": "markdown",
   "metadata": {},
   "source": [
    "# Warming up\n",
    "* Implement a function that computes the sum of squares of numbers from 0 to N - 1\n",
    "* Use numpy or python\n",
    "* An array of numbers 0 to N -1 is numpy.arange(N)"
   ]
  },
  {
   "cell_type": "code",
   "execution_count": 7,
   "metadata": {
    "collapsed": false
   },
   "outputs": [],
   "source": [
    "import numpy as np\n",
    "def sum_squares(N):\n",
    "    return (np.array(range(N))**2).sum()"
   ]
  },
  {
   "cell_type": "code",
   "execution_count": 14,
   "metadata": {
    "collapsed": false
   },
   "outputs": [
    {
     "ename": "KeyboardInterrupt",
     "evalue": "",
     "output_type": "error",
     "traceback": [
      "\u001b[1;31m---------------------------------------------------------------------------\u001b[0m",
      "\u001b[1;31mKeyboardInterrupt\u001b[0m                         Traceback (most recent call last)",
      "\u001b[1;32m<ipython-input-14-b7d7a57a23e8>\u001b[0m in \u001b[0;36m<module>\u001b[1;34m()\u001b[0m\n\u001b[1;32m----> 1\u001b[1;33m \u001b[0mget_ipython\u001b[0m\u001b[1;33m(\u001b[0m\u001b[1;33m)\u001b[0m\u001b[1;33m.\u001b[0m\u001b[0mrun_cell_magic\u001b[0m\u001b[1;33m(\u001b[0m\u001b[1;34mu'time'\u001b[0m\u001b[1;33m,\u001b[0m \u001b[1;34mu''\u001b[0m\u001b[1;33m,\u001b[0m \u001b[1;34mu'sum_squares(10 ** 8)'\u001b[0m\u001b[1;33m)\u001b[0m\u001b[1;33m\u001b[0m\u001b[0m\n\u001b[0m",
      "\u001b[1;32m/root/miniconda/envs/rep_py2/lib/python2.7/site-packages/IPython/core/interactiveshell.pyc\u001b[0m in \u001b[0;36mrun_cell_magic\u001b[1;34m(self, magic_name, line, cell)\u001b[0m\n\u001b[0;32m   2291\u001b[0m             \u001b[0mmagic_arg_s\u001b[0m \u001b[1;33m=\u001b[0m \u001b[0mself\u001b[0m\u001b[1;33m.\u001b[0m\u001b[0mvar_expand\u001b[0m\u001b[1;33m(\u001b[0m\u001b[0mline\u001b[0m\u001b[1;33m,\u001b[0m \u001b[0mstack_depth\u001b[0m\u001b[1;33m)\u001b[0m\u001b[1;33m\u001b[0m\u001b[0m\n\u001b[0;32m   2292\u001b[0m             \u001b[1;32mwith\u001b[0m \u001b[0mself\u001b[0m\u001b[1;33m.\u001b[0m\u001b[0mbuiltin_trap\u001b[0m\u001b[1;33m:\u001b[0m\u001b[1;33m\u001b[0m\u001b[0m\n\u001b[1;32m-> 2293\u001b[1;33m                 \u001b[0mresult\u001b[0m \u001b[1;33m=\u001b[0m \u001b[0mfn\u001b[0m\u001b[1;33m(\u001b[0m\u001b[0mmagic_arg_s\u001b[0m\u001b[1;33m,\u001b[0m \u001b[0mcell\u001b[0m\u001b[1;33m)\u001b[0m\u001b[1;33m\u001b[0m\u001b[0m\n\u001b[0m\u001b[0;32m   2294\u001b[0m             \u001b[1;32mreturn\u001b[0m \u001b[0mresult\u001b[0m\u001b[1;33m\u001b[0m\u001b[0m\n\u001b[0;32m   2295\u001b[0m \u001b[1;33m\u001b[0m\u001b[0m\n",
      "\u001b[1;32m<decorator-gen-60>\u001b[0m in \u001b[0;36mtime\u001b[1;34m(self, line, cell, local_ns)\u001b[0m\n",
      "\u001b[1;32m/root/miniconda/envs/rep_py2/lib/python2.7/site-packages/IPython/core/magic.pyc\u001b[0m in \u001b[0;36m<lambda>\u001b[1;34m(f, *a, **k)\u001b[0m\n\u001b[0;32m    191\u001b[0m     \u001b[1;31m# but it's overkill for just that one bit of state.\u001b[0m\u001b[1;33m\u001b[0m\u001b[1;33m\u001b[0m\u001b[0m\n\u001b[0;32m    192\u001b[0m     \u001b[1;32mdef\u001b[0m \u001b[0mmagic_deco\u001b[0m\u001b[1;33m(\u001b[0m\u001b[0marg\u001b[0m\u001b[1;33m)\u001b[0m\u001b[1;33m:\u001b[0m\u001b[1;33m\u001b[0m\u001b[0m\n\u001b[1;32m--> 193\u001b[1;33m         \u001b[0mcall\u001b[0m \u001b[1;33m=\u001b[0m \u001b[1;32mlambda\u001b[0m \u001b[0mf\u001b[0m\u001b[1;33m,\u001b[0m \u001b[1;33m*\u001b[0m\u001b[0ma\u001b[0m\u001b[1;33m,\u001b[0m \u001b[1;33m**\u001b[0m\u001b[0mk\u001b[0m\u001b[1;33m:\u001b[0m \u001b[0mf\u001b[0m\u001b[1;33m(\u001b[0m\u001b[1;33m*\u001b[0m\u001b[0ma\u001b[0m\u001b[1;33m,\u001b[0m \u001b[1;33m**\u001b[0m\u001b[0mk\u001b[0m\u001b[1;33m)\u001b[0m\u001b[1;33m\u001b[0m\u001b[0m\n\u001b[0m\u001b[0;32m    194\u001b[0m \u001b[1;33m\u001b[0m\u001b[0m\n\u001b[0;32m    195\u001b[0m         \u001b[1;32mif\u001b[0m \u001b[0mcallable\u001b[0m\u001b[1;33m(\u001b[0m\u001b[0marg\u001b[0m\u001b[1;33m)\u001b[0m\u001b[1;33m:\u001b[0m\u001b[1;33m\u001b[0m\u001b[0m\n",
      "\u001b[1;32m/root/miniconda/envs/rep_py2/lib/python2.7/site-packages/IPython/core/magics/execution.pyc\u001b[0m in \u001b[0;36mtime\u001b[1;34m(self, line, cell, local_ns)\u001b[0m\n\u001b[0;32m   1161\u001b[0m         \u001b[1;32mif\u001b[0m \u001b[0mmode\u001b[0m\u001b[1;33m==\u001b[0m\u001b[1;34m'eval'\u001b[0m\u001b[1;33m:\u001b[0m\u001b[1;33m\u001b[0m\u001b[0m\n\u001b[0;32m   1162\u001b[0m             \u001b[0mst\u001b[0m \u001b[1;33m=\u001b[0m \u001b[0mclock2\u001b[0m\u001b[1;33m(\u001b[0m\u001b[1;33m)\u001b[0m\u001b[1;33m\u001b[0m\u001b[0m\n\u001b[1;32m-> 1163\u001b[1;33m             \u001b[0mout\u001b[0m \u001b[1;33m=\u001b[0m \u001b[0meval\u001b[0m\u001b[1;33m(\u001b[0m\u001b[0mcode\u001b[0m\u001b[1;33m,\u001b[0m \u001b[0mglob\u001b[0m\u001b[1;33m,\u001b[0m \u001b[0mlocal_ns\u001b[0m\u001b[1;33m)\u001b[0m\u001b[1;33m\u001b[0m\u001b[0m\n\u001b[0m\u001b[0;32m   1164\u001b[0m             \u001b[0mend\u001b[0m \u001b[1;33m=\u001b[0m \u001b[0mclock2\u001b[0m\u001b[1;33m(\u001b[0m\u001b[1;33m)\u001b[0m\u001b[1;33m\u001b[0m\u001b[0m\n\u001b[0;32m   1165\u001b[0m         \u001b[1;32melse\u001b[0m\u001b[1;33m:\u001b[0m\u001b[1;33m\u001b[0m\u001b[0m\n",
      "\u001b[1;32m<timed eval>\u001b[0m in \u001b[0;36m<module>\u001b[1;34m()\u001b[0m\n",
      "\u001b[1;32m<ipython-input-7-4d8a27ac29e1>\u001b[0m in \u001b[0;36msum_squares\u001b[1;34m(N)\u001b[0m\n\u001b[0;32m      1\u001b[0m \u001b[1;32mimport\u001b[0m \u001b[0mnumpy\u001b[0m \u001b[1;32mas\u001b[0m \u001b[0mnp\u001b[0m\u001b[1;33m\u001b[0m\u001b[0m\n\u001b[0;32m      2\u001b[0m \u001b[1;32mdef\u001b[0m \u001b[0msum_squares\u001b[0m\u001b[1;33m(\u001b[0m\u001b[0mN\u001b[0m\u001b[1;33m)\u001b[0m\u001b[1;33m:\u001b[0m\u001b[1;33m\u001b[0m\u001b[0m\n\u001b[1;32m----> 3\u001b[1;33m     \u001b[1;32mreturn\u001b[0m \u001b[1;33m(\u001b[0m\u001b[0mnp\u001b[0m\u001b[1;33m.\u001b[0m\u001b[0marray\u001b[0m\u001b[1;33m(\u001b[0m\u001b[0mrange\u001b[0m\u001b[1;33m(\u001b[0m\u001b[0mN\u001b[0m\u001b[1;33m)\u001b[0m\u001b[1;33m)\u001b[0m\u001b[1;33m**\u001b[0m\u001b[1;36m2\u001b[0m\u001b[1;33m)\u001b[0m\u001b[1;33m.\u001b[0m\u001b[0msum\u001b[0m\u001b[1;33m(\u001b[0m\u001b[1;33m)\u001b[0m\u001b[1;33m\u001b[0m\u001b[0m\n\u001b[0m",
      "\u001b[1;31mKeyboardInterrupt\u001b[0m: "
     ]
    }
   ],
   "source": [
    "%%time\n",
    "sum_squares(10 ** 8)"
   ]
  },
  {
   "cell_type": "code",
   "execution_count": 15,
   "metadata": {
    "collapsed": false
   },
   "outputs": [
    {
     "data": {
      "text/plain": [
       "array([0, 1, 2, 3, 4, 5, 6, 7, 8, 9])"
      ]
     },
     "execution_count": 15,
     "metadata": {},
     "output_type": "execute_result"
    }
   ],
   "source": [
    "np.arange(10)"
   ]
  },
  {
   "cell_type": "code",
   "execution_count": 16,
   "metadata": {
    "collapsed": false
   },
   "outputs": [
    {
     "data": {
      "text/plain": [
       "ARange{dtype='int64'}.0"
      ]
     },
     "execution_count": 16,
     "metadata": {},
     "output_type": "execute_result"
    }
   ],
   "source": [
    "T.arange(10)"
   ]
  },
  {
   "cell_type": "markdown",
   "metadata": {},
   "source": [
    "# theano teaser\n",
    "\n",
    "Doing the very same thing"
   ]
  },
  {
   "cell_type": "code",
   "execution_count": 9,
   "metadata": {
    "collapsed": true
   },
   "outputs": [],
   "source": [
    "import theano\n",
    "import theano.tensor as T"
   ]
  },
  {
   "cell_type": "code",
   "execution_count": 10,
   "metadata": {
    "collapsed": true
   },
   "outputs": [],
   "source": [
    "# I gonna be function parameter\n",
    "N = T.scalar(\"a dimension\", dtype='int32')\n",
    "\n",
    "# I am a recipe on how to produce sum of squares of arange of N given N\n",
    "result = (T.arange(N) ** 2).sum()\n",
    "\n",
    "# Compiling the recipe of computing \"result\" given N\n",
    "sum_function = theano.function(inputs=[N], outputs=result)"
   ]
  },
  {
   "cell_type": "code",
   "execution_count": 13,
   "metadata": {
    "collapsed": false
   },
   "outputs": [
    {
     "name": "stdout",
     "output_type": "stream",
     "text": [
      "CPU times: user 311 ms, sys: 235 ms, total: 545 ms\n",
      "Wall time: 548 ms\n"
     ]
    },
    {
     "data": {
      "text/plain": [
       "array(662921401752298880)"
      ]
     },
     "execution_count": 13,
     "metadata": {},
     "output_type": "execute_result"
    }
   ],
   "source": [
    "%%time\n",
    "sum_function(10 ** 8)"
   ]
  },
  {
   "cell_type": "markdown",
   "metadata": {},
   "source": [
    "# How does it work?\n",
    "\n",
    "1. You define inputs f your future function;\n",
    "2. You write a recipe for some transformation of inputs;\n",
    "3. You compile it;\n",
    "\n",
    "\n",
    "* You have just got a function! (you define a function as symbolic computation graph.)\n",
    "\n",
    "\n",
    "* There are two main kinds of entities: \"Inputs\" and \"Transformations\"\n",
    "* Both can be numbers, vectors, matrices, tensors, etc.\n",
    "* Both can be integers, floats of booleans (uint8) of various size.\n",
    "\n",
    "\n",
    "* An input is a placeholder for function parameters.\n",
    " * N from example above\n",
    "\n",
    "\n",
    "* Transformations are the recipes for computing something given inputs and transformation\n",
    " * (T.arange(N)^2).sum() are 3 sequential transformations of N\n",
    " * Doubles all functions of numpy vector syntax\n",
    " * You can almost always go with replacing \"np.function\" with \"T.function\" aka \"theano.tensor.function\"\n",
    "   * np.mean -> T.mean, np.arange -> T.arange, np.cumsum -> T.cumsum\n",
    "   * np.arange(10).mean() -> T.arange(10).mean()\n",
    "   * and so on.\n",
    "   * builtin operations also work that way\n",
    "   * Sometimes the functions have different names or locations (e.g. T.extra_ops)\n",
    " \n",
    "Still confused? We gonna fix that."
   ]
  },
  {
   "cell_type": "code",
   "execution_count": 17,
   "metadata": {
    "collapsed": true
   },
   "outputs": [],
   "source": [
    "# Inputs\n",
    "\n",
    "example_input_integer = T.scalar(\"scalar input\", dtype='float32')\n",
    "\n",
    "example_input_tensor = T.tensor4(\"four dimensional tensor input\") # dtype=theano.config.floatX by default\n",
    "# Don't worry, you'll not need 4d! (so far)\n",
    "\n",
    "# vector of integers:\n",
    "input_vector = T.vector(\"integers_vector\", dtype='int32')"
   ]
  },
  {
   "cell_type": "code",
   "execution_count": 18,
   "metadata": {
    "collapsed": true
   },
   "outputs": [],
   "source": [
    "# Transformations\n",
    "\n",
    "# transofrmation: elementwise multiplication\n",
    "double_the_vector = input_vector * 2\n",
    "\n",
    "# elementwise cosine\n",
    "elementwise_cosine = T.cos(input_vector)\n",
    "\n",
    "# difference between squared vector and vector itself\n",
    "vector_squares = input_vector ** 2 - input_vector"
   ]
  },
  {
   "cell_type": "code",
   "execution_count": null,
   "metadata": {
    "collapsed": true
   },
   "outputs": [],
   "source": []
  },
  {
   "cell_type": "code",
   "execution_count": 21,
   "metadata": {
    "collapsed": true
   },
   "outputs": [],
   "source": [
    "# Practice time:\n",
    "# create two float32 vectors\n",
    "my_vector =  T.vector('myvec1',dtype='float32')\n",
    "my_vector2 =  T.vector('myvec2',dtype='float32')"
   ]
  },
  {
   "cell_type": "code",
   "execution_count": 22,
   "metadata": {
    "collapsed": true
   },
   "outputs": [],
   "source": [
    "# Write a transformation (recipe):\n",
    "# (my_vector)*(my_vector2) / (sin(my_vector) + 1)\n",
    "my_transformation = my_vector*my_vector2 / (T.sin(my_vector) + 1)"
   ]
  },
  {
   "cell_type": "code",
   "execution_count": 23,
   "metadata": {
    "collapsed": false
   },
   "outputs": [
    {
     "name": "stdout",
     "output_type": "stream",
     "text": [
      "Elemwise{true_div,no_inplace}.0\n"
     ]
    }
   ],
   "source": [
    "print my_transformation\n",
    "# it's okay this isn't a number. This is an abstract expression (or transformation of input variables)"
   ]
  },
  {
   "cell_type": "markdown",
   "metadata": {},
   "source": [
    "# Compiling\n",
    "\n",
    "* So far we used \"symbolic\" variables and symbolic expressions \n",
    "    * Defining the recipe for computation, but not computing anything\n",
    "* To use the \"recipe\" (symbolic expression), one should **compile it**. \n",
    "\n",
    "We started with defining *mathematical function*, process of compiling turns this into *programmer's function* (which is able to efficiently calculate outputs given the input values)"
   ]
  },
  {
   "cell_type": "code",
   "execution_count": 24,
   "metadata": {
    "collapsed": true
   },
   "outputs": [],
   "source": [
    "inputs = [my_vector,my_vector2]\n",
    "outputs = [my_transformation]\n",
    "\n",
    "# The next lines compile a function that takes two vectors and computes your transformation\n",
    "my_function = theano.function(\n",
    "    inputs, outputs,\n",
    "    allow_input_downcast=True #automatic type casting for input parameters (e.g. float64 -> float32)\n",
    ")"
   ]
  },
  {
   "cell_type": "code",
   "execution_count": 27,
   "metadata": {
    "collapsed": false
   },
   "outputs": [
    {
     "name": "stdout",
     "output_type": "stream",
     "text": [
      "using python lists:\n",
      "[array([  2.1721766 ,   5.23752832,  15.77397728], dtype=float32)]\n",
      "\n",
      "\n",
      "using numpy arrays:\n",
      "[array([   0.        ,    2.77555895,    5.47030783,   14.02131271,\n",
      "         89.5477066 ,  676.25805664,   47.183918  ,   24.4084301 ,\n",
      "         23.68156242,   38.24041748], dtype=float32)]\n"
     ]
    }
   ],
   "source": [
    "# using function with lists:\n",
    "print \"using python lists:\"\n",
    "print my_function([1, 2, 3], [4, 5, 6])\n",
    "print \"\\n\"\n",
    "\n",
    "# Or using numpy arrays (should be preferred):\n",
    "# BTW, that 'float' dtype is casted to second parameter dtype which is float32\n",
    "print \"using numpy arrays:\"\n",
    "print my_function(np.arange(10),\n",
    "                  np.linspace(5, 6, 10, dtype='float'))"
   ]
  },
  {
   "cell_type": "markdown",
   "metadata": {},
   "source": [
    "# Debugging\n",
    "* Compilation can take a while for big functions\n",
    "* To avoid waiting, one can evaluate transformations without compiling\n",
    "* Without compilation, the code runs slower, so consider reducing input size\n"
   ]
  },
  {
   "cell_type": "code",
   "execution_count": null,
   "metadata": {
    "collapsed": true
   },
   "outputs": [],
   "source": [
    "# a dictionary of inputs\n",
    "my_function_inputs = {\n",
    "    my_vector: [1, 2, 3],\n",
    "    my_vector2: [4, 5, 6]\n",
    "}\n",
    "\n",
    "# evaluate my_transformation\n",
    "# has to match with compiled function output\n",
    "print my_transformation.eval(my_function_inputs)\n",
    "\n",
    "# can compute transformations on the fly\n",
    "print \"add 2 vectors\", (my_vector + my_vector2).eval(my_function_inputs)\n",
    "\n",
    "# WARNING! if your transformation only depends on some inputs,\n",
    "# do not provide the rest of them\n",
    "print \"vector's shape:\", my_vector.shape.eval({\n",
    "    my_vector: [1, 2, 3]\n",
    "})"
   ]
  },
  {
   "cell_type": "markdown",
   "metadata": {},
   "source": [
    "* It's generally a good idea to stay on a smaller scale when debugging since code runs slower without optimization. Subsampling (X[:10]) would be a good start.\n",
    "* If you strongly require large scale computations, it may be faster to just compile the function. "
   ]
  },
  {
   "cell_type": "markdown",
   "metadata": {},
   "source": [
    "# Your turn"
   ]
  },
  {
   "cell_type": "code",
   "execution_count": 33,
   "metadata": {
    "collapsed": true
   },
   "outputs": [],
   "source": [
    "# Quest #1 - implement a function that computes a mean squared error of two input vectors\n",
    "# Your function has to take 2 vectors and return a single number\n",
    "\n",
    "Y = T.vector(dtype='float32')\n",
    "Y_pred = T.vector(dtype='float32')\n",
    "\n",
    "mse = ((Y- Y_pred)**2).mean()\n",
    "\n",
    "compute_mse = theano.function([Y,Y_pred],mse,allow_input_downcast=True)"
   ]
  },
  {
   "cell_type": "code",
   "execution_count": 34,
   "metadata": {
    "collapsed": false
   },
   "outputs": [
    {
     "name": "stdout",
     "output_type": "stream",
     "text": [
      "ok, tests passed\n"
     ]
    }
   ],
   "source": [
    "# Tests\n",
    "from sklearn.metrics import mean_squared_error\n",
    "\n",
    "for n in [1, 5, 10, 10 ** 3]:\n",
    "\n",
    "    elems = [np.arange(n), np.arange(n, 0, -1), np.zeros(n),\n",
    "             np.ones(n), np.random.random(n), np.random.randint(100, size=n)]\n",
    "\n",
    "    for el in elems:\n",
    "        for el_2 in elems:\n",
    "            true_mse = np.array(mean_squared_error(el, el_2))\n",
    "            my_mse = compute_mse(el, el_2)\n",
    "            if not np.allclose(true_mse, my_mse):\n",
    "                print 'Wrong result:'\n",
    "                print 'mse(%s,%s)' % (el, el_2)\n",
    "                print \"should be: %f, but your function returned %f\" % (true_mse, my_mse)\n",
    "                raise ValueError(\"Something is wrong!\")\n",
    "\n",
    "print \"ok, tests passed\""
   ]
  },
  {
   "cell_type": "markdown",
   "metadata": {},
   "source": [
    "# Shared variables\n",
    "\n",
    "* The inputs and transformations only exist when function is called\n",
    "\n",
    "* Shared variables always stay in memory like global variables\n",
    " * Shared variables can be included into a symbolic graph\n",
    " * They can be set and evaluated using special methods\n",
    "   * but they can't change value arbitrarily during symbolic graph computation\n",
    "   * we'll cover that later;\n",
    " \n",
    " \n",
    "* Hint: such variables are a perfect place to store network parameters\n",
    " * e.g. weights or some metadata"
   ]
  },
  {
   "cell_type": "code",
   "execution_count": 36,
   "metadata": {
    "collapsed": true
   },
   "outputs": [],
   "source": [
    "# creating shared variable\n",
    "shared_vector_1 = theano.shared(np.ones(10, dtype='float64'))"
   ]
  },
  {
   "cell_type": "code",
   "execution_count": 39,
   "metadata": {
    "collapsed": false
   },
   "outputs": [
    {
     "name": "stdout",
     "output_type": "stream",
     "text": [
      "initial value [ 0.  1.  2.  3.  4.]\n"
     ]
    }
   ],
   "source": [
    "# evaluating shared variable (outside symbolic graph)\n",
    "print \"initial value\", shared_vector_1.get_value()\n",
    "\n",
    "# within symbolic graph you use them just as any other input or transformation, not \"get value\" needed"
   ]
  },
  {
   "cell_type": "code",
   "execution_count": 38,
   "metadata": {
    "collapsed": false
   },
   "outputs": [
    {
     "name": "stdout",
     "output_type": "stream",
     "text": [
      "new value [ 0.  1.  2.  3.  4.]\n"
     ]
    }
   ],
   "source": [
    "# setting new value\n",
    "shared_vector_1.set_value(np.arange(5))\n",
    "\n",
    "# getting that new value\n",
    "print \"new value\", shared_vector_1.get_value()\n",
    "\n",
    "# Note that the vector changed shape\n",
    "# This is entirely allowed... unless your graph is hard-wired to work with some fixed shape"
   ]
  },
  {
   "cell_type": "markdown",
   "metadata": {},
   "source": [
    "# Your turn"
   ]
  },
  {
   "cell_type": "code",
   "execution_count": 40,
   "metadata": {
    "collapsed": true
   },
   "outputs": [],
   "source": [
    "# Write a recipe (transformation) that computes an elementwise transformation of shared_vector and input_scalar\n",
    "# Compile as a function of input_scalar\n",
    "\n",
    "input_scalar = T.scalar('coefficient',dtype='float32')\n",
    "\n",
    "scalar_times_shared = input_scalar*shared_vector_1\n",
    "\n",
    "shared_times_n = theano.function([input_scalar], scalar_times_shared)"
   ]
  },
  {
   "cell_type": "code",
   "execution_count": 41,
   "metadata": {
    "collapsed": false
   },
   "outputs": [
    {
     "name": "stdout",
     "output_type": "stream",
     "text": [
      "shared: [ 0.  1.  2.  3.  4.]\n",
      "shared_times_n(5) [  0.   5.  10.  15.  20.]\n",
      "shared_times_n(-0.5) [-0.  -0.5 -1.  -1.5 -2. ]\n"
     ]
    }
   ],
   "source": [
    "print \"shared:\", shared_vector_1.get_value()\n",
    "\n",
    "print \"shared_times_n(5)\", shared_times_n(5)\n",
    "\n",
    "print \"shared_times_n(-0.5)\", shared_times_n(-0.5)"
   ]
  },
  {
   "cell_type": "code",
   "execution_count": 42,
   "metadata": {
    "collapsed": false
   },
   "outputs": [
    {
     "name": "stdout",
     "output_type": "stream",
     "text": [
      "shared: [-1.  0.  1.]\n",
      "shared_times_n(5) [-5.  0.  5.]\n",
      "shared_times_n(-0.5) [ 0.5 -0.  -0.5]\n"
     ]
    }
   ],
   "source": [
    "# Changing value of vector 1 (output should change)\n",
    "shared_vector_1.set_value([-1, 0, 1])\n",
    "print \"shared:\", shared_vector_1.get_value()\n",
    "\n",
    "print \"shared_times_n(5)\", shared_times_n(5)\n",
    "\n",
    "print \"shared_times_n(-0.5)\", shared_times_n(-0.5)"
   ]
  },
  {
   "cell_type": "markdown",
   "metadata": {},
   "source": [
    "# T.grad - why theano matters\n",
    "* Theano can compute derivatives and gradients automatically\n",
    "* Derivatives are computed symbolically, not numerically\n",
    "\n",
    "Limitations:\n",
    "* You can only compute a gradient of a __scalar__ transformation over one or several scalar or vector (or tensor) transformations or inputs.\n",
    "* A transformation has to have float32 or float64 dtype throughout the whole computation graph\n",
    " * derivative over an integer has no mathematical sense\n"
   ]
  },
  {
   "cell_type": "code",
   "execution_count": 44,
   "metadata": {
    "collapsed": true
   },
   "outputs": [],
   "source": [
    "my_scalar = T.scalar(name='input', dtype='float64')\n",
    "\n",
    "scalar_squared = T.sum(my_scalar ** 2)\n",
    "\n",
    "# a derivative of v_squared by my_vector\n",
    "derivative = T.grad(scalar_squared, my_scalar)\n",
    "\n",
    "fun = theano.function([my_scalar], scalar_squared)\n",
    "grad = theano.function([my_scalar], derivative)"
   ]
  },
  {
   "cell_type": "code",
   "execution_count": 45,
   "metadata": {
    "collapsed": false
   },
   "outputs": [
    {
     "data": {
      "text/plain": [
       "<matplotlib.legend.Legend at 0x7fde99a1ec10>"
      ]
     },
     "execution_count": 45,
     "metadata": {},
     "output_type": "execute_result"
    },
    {
     "data": {
      "image/png": "[encoded data removed]",
      "text/plain": [
       "<matplotlib.figure.Figure at 0x7fde9973ee90>"
      ]
     },
     "metadata": {},
     "output_type": "display_data"
    }
   ],
   "source": [
    "x = np.linspace(-3, 3)\n",
    "x_squared = map(fun, x)\n",
    "x_squared_der = map(grad, x)\n",
    "\n",
    "plt.plot(x, x_squared, label=\"x^2\")\n",
    "plt.plot(x, x_squared_der, label=\"derivative\")\n",
    "plt.legend()\n"
   ]
  },
  {
   "cell_type": "markdown",
   "metadata": {},
   "source": [
    "# Why `T.grad` rocks"
   ]
  },
  {
   "cell_type": "code",
   "execution_count": 120,
   "metadata": {
    "collapsed": true
   },
   "outputs": [],
   "source": [
    "def super_fun(x):\n",
    "    my_vector = my_scalar = T.repeat(x,5)\n",
    "    wps = ((my_vector + my_scalar)**(1 + T.var(my_vector)) + \\\n",
    "                  1. / T.arcsinh(my_scalar)).mean() / (my_scalar**2 + 1) + \\\n",
    "                  0.01 * T.sin(2 * my_scalar**1.5) * (T.sum(my_vector) * my_scalar**2) \\\n",
    "                  * T.exp((my_scalar - 4)**2) / (1 + T.exp((my_scalar - 4)**2)) * \\\n",
    "                 (1 - (T.exp(-(my_scalar-4)**2)) / (1 + T.exp(-(my_scalar-4)**2)))**2\n",
    "    return wps.mean()"
   ]
  },
  {
   "cell_type": "code",
   "execution_count": 47,
   "metadata": {
    "collapsed": false
   },
   "outputs": [
    {
     "name": "stdout",
     "output_type": "stream",
     "text": [
      "CPU times: user 1.04 s, sys: 3.85 ms, total: 1.05 s\n",
      "Wall time: 1.05 s\n"
     ]
    }
   ],
   "source": [
    "%%time\n",
    "my_vector = T.vector('float64')\n",
    "\n",
    "# Compute the gradient of the next function over my_scalar and my_vector\n",
    "# Note: trying to understand the meaning of function below may result in brain damage\n",
    "\n",
    "weird_function = ((my_vector + my_scalar)**(1 + T.var(my_vector)) + \\\n",
    "                  1. / T.arcsinh(my_scalar)).mean() / (my_scalar**2 + 1) + \\\n",
    "                  0.01 * T.sin(2 * my_scalar**1.5) * (T.sum(my_vector) * my_scalar**2) \\\n",
    "                  * T.exp((my_scalar - 4)**2) / (1 + T.exp((my_scalar - 4)**2)) * \\\n",
    "                 (1 - (T.exp(-(my_scalar-4)**2)) / (1 + T.exp(-(my_scalar-4)**2)))**2\n",
    "\n",
    "\n",
    "der_by_scalar = T.grad(weird_function,my_scalar)\n",
    "der_by_vector = T.grad(weird_function,my_vector)\n",
    "\n",
    "\n",
    "compute_weird_function = theano.function([my_scalar,my_vector], weird_function)\n",
    "compute_der_by_scalar = theano.function([my_scalar,my_vector], der_by_scalar)\n",
    "\n",
    "# Optional exercise on calculus: compute derivatives"
   ]
  },
  {
   "cell_type": "code",
   "execution_count": 48,
   "metadata": {
    "collapsed": false
   },
   "outputs": [
    {
     "data": {
      "text/plain": [
       "<matplotlib.legend.Legend at 0x7fde23fd00d0>"
      ]
     },
     "execution_count": 48,
     "metadata": {},
     "output_type": "execute_result"
    },
    {
     "data": {
      "image/png": "[encoded data removed]",
      "text/plain": [
       "<matplotlib.figure.Figure at 0x7fde2621cc50>"
      ]
     },
     "metadata": {},
     "output_type": "display_data"
    }
   ],
   "source": [
    "# Plotting your derivative\n",
    "vector_0 = [1, 2, 3]\n",
    "\n",
    "scalar_space = np.linspace(0, 7)\n",
    "\n",
    "y = [compute_weird_function(x, vector_0) for x in scalar_space]\n",
    "plt.plot(scalar_space, y, label='function')\n",
    "y_der_by_scalar = [compute_der_by_scalar(x, vector_0) for x in scalar_space]\n",
    "plt.plot(scalar_space, y_der_by_scalar, label='derivative')\n",
    "plt.grid()\n",
    "plt.legend()"
   ]
  },
  {
   "cell_type": "markdown",
   "metadata": {},
   "source": [
    "# Last element: updates\n",
    "\n",
    "* updates are a way of changing shared variables at after function call.\n",
    "\n",
    "* technically it's a dictionary {shared_variable : a recipe for new value} which is has to be provided when function is compiled\n",
    "\n",
    "That's how it works:"
   ]
  },
  {
   "cell_type": "code",
   "execution_count": 51,
   "metadata": {
    "collapsed": true
   },
   "outputs": [],
   "source": [
    "# Multiply shared vector by a number and save the product back into shared vector\n",
    "\n",
    "inputs = [input_scalar]\n",
    "outputs = [scalar_times_shared]  # return vector times scalar\n",
    "\n",
    "my_updates = {\n",
    "    shared_vector_1: scalar_times_shared  # and write this same result bach into shared_vector_1\n",
    "}\n",
    "\n",
    "compute_and_save = theano.function(inputs, outputs, updates=my_updates)\n"
   ]
  },
  {
   "cell_type": "code",
   "execution_count": 53,
   "metadata": {
    "collapsed": false
   },
   "outputs": [
    {
     "name": "stdout",
     "output_type": "stream",
     "text": [
      "initial shared value: [ 0.  2.  4.  6.  8.]\n",
      "compute_and_save(2) returns [array([  0.,   4.,   8.,  12.,  16.])]\n",
      "new shared value: [  0.   4.   8.  12.  16.]\n"
     ]
    }
   ],
   "source": [
    "#shared_vector_1.set_value(np.arange(5))\n",
    "\n",
    "# initial shared_vector_1\n",
    "print \"initial shared value:\", shared_vector_1.get_value()\n",
    "\n",
    "# evaluating the function (shared_vector_1 will be changed)\n",
    "print \"compute_and_save(2) returns\", compute_and_save(2)\n",
    "\n",
    "# evaluate new shared_vector_1\n",
    "print \"new shared value:\", shared_vector_1.get_value()\n"
   ]
  },
  {
   "cell_type": "markdown",
   "metadata": {},
   "source": [
    "# Logistic regression example\n",
    "\n",
    "Implement the regular logistic regression training algorithm\n",
    "\n",
    "Tips:\n",
    "* Weights are represented as a shared variable\n",
    "* X and y are potential inputs\n",
    "* Compile 2 functions:\n",
    "    * train_function(X, y) - returns error and computes new values of weights __(through updates)__\n",
    "    * predict_fun(X) - just computes probabilities (\"y\") given data\n",
    "    \n",
    "    \n",
    "    let T be true Y , P be probability predicted by logregression\n",
    "    \n",
    "    \n",
    "    $$ Loss = T*log(P) + (1-T)*log(1-P) $$\n",
    " \n",
    "We shall train on a two-class MNIST dataset\n",
    "    * please note that target y are {0,1} and not {-1,1} as in some formulae\n",
    "    \n",
    "let T be true Y , P be probability predicted by logregression\n",
    "    \n",
    "    \n",
    "$$ Loss = T*log(P) + (1-T)*log(1-P) $$"
   ]
  },
  {
   "cell_type": "code",
   "execution_count": 64,
   "metadata": {
    "collapsed": false
   },
   "outputs": [
    {
     "name": "stdout",
     "output_type": "stream",
     "text": [
      "y [shape - (360,)]: [0 1 0 1 0 1 0 0 1 1]\n",
      "X [shape - (360, 64)]:\n",
      "[[  0.   0.   5.  13.   9.   1.   0.   0.   0.   0.  13.  15.  10.  15.\n",
      "    5.   0.   0.   3.  15.   2.   0.  11.   8.   0.   0.   4.  12.   0.\n",
      "    0.   8.   8.   0.   0.   5.   8.   0.   0.   9.   8.   0.   0.   4.\n",
      "   11.   0.   1.  12.   7.   0.   0.   2.  14.   5.  10.  12.   0.   0.\n",
      "    0.   0.   6.  13.  10.   0.   0.   0.]\n",
      " [  0.   0.   0.  12.  13.   5.   0.   0.   0.   0.   0.  11.  16.   9.\n",
      "    0.   0.   0.   0.   3.  15.  16.   6.   0.   0.   0.   7.  15.  16.\n",
      "   16.   2.   0.   0.   0.   0.   1.  16.  16.   3.   0.   0.   0.   0.\n",
      "    1.  16.  16.   6.   0.   0.   0.   0.   1.  16.  16.   6.   0.   0.\n",
      "    0.   0.   0.  11.  16.  10.   0.   0.]\n",
      " [  0.   0.   1.   9.  15.  11.   0.   0.   0.   0.  11.  16.   8.  14.\n",
      "    6.   0.   0.   2.  16.  10.   0.   9.   9.   0.   0.   1.  16.   4.\n",
      "    0.   8.   8.   0.   0.   4.  16.   4.   0.   8.   8.   0.   0.   1.\n",
      "   16.   5.   1.  11.   3.   0.   0.   0.  12.  12.  10.  10.   0.   0.\n",
      "    0.   0.   1.  10.  13.   3.   0.   0.]]\n",
      "[0 1 0 1 0 1 0 0 1 1]\n"
     ]
    }
   ],
   "source": [
    "from sklearn.datasets import load_digits\n",
    "\n",
    "mnist = load_digits(2)\n",
    "\n",
    "X, y = mnist.data, mnist.target\n",
    "\n",
    "print \"y [shape - %s]:\" % (str(y.shape)), y[:10]\n",
    "print \"X [shape - %s]:\" % (str(X.shape))\n",
    "print X[:3]\n",
    "print y[:10]\n"
   ]
  },
  {
   "cell_type": "code",
   "execution_count": 56,
   "metadata": {
    "collapsed": true
   },
   "outputs": [],
   "source": [
    "# inputs and shareds\n",
    "shared_weights = theano.shared(np.zeros(64))\n",
    "input_X = T.matrix('float64')\n",
    "input_y = T.vector('float64')"
   ]
  },
  {
   "cell_type": "code",
   "execution_count": 67,
   "metadata": {
    "collapsed": false
   },
   "outputs": [],
   "source": [
    "predicted_y = 1/(1+np.e**(-input_X.dot(shared_weights)))\n",
    "loss = input_y*T.log(predicted_y) + (1-input_y)*T.log(1-predicted_y)\n",
    "loss = loss.mean()\n",
    "\n",
    "grad = T.grad(loss,shared_weights)\n",
    "\n",
    "\n",
    "updates = {\n",
    "    shared_weights: shared_weights  -0.01 * grad\n",
    "}"
   ]
  },
  {
   "cell_type": "code",
   "execution_count": 68,
   "metadata": {
    "collapsed": true
   },
   "outputs": [],
   "source": [
    "train_function = theano.function([input_X,input_y],loss, updates=updates)\n",
    "predict_function = theano.function([input_X],predicted_y)"
   ]
  },
  {
   "cell_type": "code",
   "execution_count": 69,
   "metadata": {
    "collapsed": false
   },
   "outputs": [],
   "source": [
    "from sklearn.cross_validation import train_test_split\n",
    "\n",
    "X_train, X_test, y_train, y_test = train_test_split(X, y)\n"
   ]
  },
  {
   "cell_type": "code",
   "execution_count": 70,
   "metadata": {
    "collapsed": false
   },
   "outputs": [
    {
     "name": "stdout",
     "output_type": "stream",
     "text": [
      "loss at iter 0:-0.6931\n",
      "train auc: 0.0\n",
      "test auc: 0.0\n",
      "loss at iter 1:-2.3369\n",
      "train auc: 0.0\n",
      "test auc: 0.0\n",
      "loss at iter 2:-6.2448\n",
      "train auc: 0.0\n",
      "test auc: 0.0\n",
      "loss at iter 3:-10.6441\n",
      "train auc: 0.0\n",
      "test auc: 0.0\n",
      "loss at iter 4:-15.0669\n",
      "train auc: 0.0\n",
      "test auc: 0.0\n",
      "resulting weights:\n"
     ]
    },
    {
     "data": {
      "text/plain": [
       "<matplotlib.colorbar.Colorbar instance at 0x7fde99789998>"
      ]
     },
     "execution_count": 70,
     "metadata": {},
     "output_type": "execute_result"
    },
    {
     "name": "stderr",
     "output_type": "stream",
     "text": [
      "/root/miniconda/envs/rep_py2/lib/python2.7/site-packages/matplotlib/collections.py:590: FutureWarning: elementwise comparison failed; returning scalar instead, but in the future will perform elementwise comparison\n",
      "  if self._edgecolors == str('face'):\n"
     ]
    },
    {
     "data": {
      "image/png": "[encoded data removed]",
      "text/plain": [
       "<matplotlib.figure.Figure at 0x7fde9279d850>"
      ]
     },
     "metadata": {},
     "output_type": "display_data"
    }
   ],
   "source": [
    "from sklearn.metrics import roc_auc_score\n",
    "\n",
    "for i in range(5):\n",
    "    loss_i = train_function(X_train, y_train)\n",
    "    print \"loss at iter %i:%.4f\" % (i, loss_i)\n",
    "    print \"train auc:\", roc_auc_score(y_train, predict_function(X_train))\n",
    "    print \"test auc:\", roc_auc_score(y_test, predict_function(X_test))\n",
    "\n",
    "print \"resulting weights:\"\n",
    "plt.imshow(shared_weights.get_value().reshape(8, -1))\n",
    "plt.colorbar()\n"
   ]
  },
  {
   "cell_type": "markdown",
   "metadata": {},
   "source": [
    "# lasagne\n",
    "* lasagne is a library for neural network building and training\n",
    "* it's a low-level library with almost seamless integration with theano (unlike e.g. Keras)\n",
    "\n",
    "No longer shall we bother ourselves with boring MNIST.\n",
    "\n",
    "Instead, gonna take... NotMNIST!\n",
    "\n",
    "* images are 28x28 like original MNIST\n",
    "* 10 different letters\n",
    "* 0.5*10^6 samples total"
   ]
  },
  {
   "cell_type": "code",
   "execution_count": 76,
   "metadata": {
    "collapsed": false
   },
   "outputs": [
    {
     "name": "stdout",
     "output_type": "stream",
     "text": [
      "using stored data.npz\n",
      "(423291, 1, 28, 28) (423291,)\n"
     ]
    }
   ],
   "source": [
    "from notmnist import load_dataset\n",
    "\n",
    "X_train, y_train, X_val, y_val, X_test, y_test = load_dataset()\n",
    "\n",
    "print X_train.shape, y_train.shape\n"
   ]
  },
  {
   "cell_type": "code",
   "execution_count": 77,
   "metadata": {
    "collapsed": false
   },
   "outputs": [
    {
     "data": {
      "image/png": "[encoded data removed]",
      "text/plain": [
       "<matplotlib.figure.Figure at 0x7fde7553a510>"
      ]
     },
     "metadata": {},
     "output_type": "display_data"
    }
   ],
   "source": [
    "plt.figure(figsize=[12, 8])\n",
    "for i, x in enumerate(X_train[:12]):\n",
    "    plt.subplot(3, 4, i + 1)\n",
    "    plt.imshow(x[0].reshape(28,28), cmap='gray')\n",
    "plt.show()\n"
   ]
  },
  {
   "cell_type": "code",
   "execution_count": 78,
   "metadata": {
    "collapsed": true
   },
   "outputs": [],
   "source": [
    "import lasagne\n",
    "\n",
    "input_X = T.tensor4(\"X\")\n",
    "\n",
    "# input dimention (None means \"Arbitrary\" and only works at  the first axes [samples])\n",
    "input_shape = [None, 1, 28, 28]\n",
    "\n",
    "target_y = T.vector(\"target Y integer\", dtype='int32')\n"
   ]
  },
  {
   "cell_type": "markdown",
   "metadata": {},
   "source": [
    "Defining network architecture"
   ]
  },
  {
   "cell_type": "code",
   "execution_count": 124,
   "metadata": {
    "collapsed": true
   },
   "outputs": [],
   "source": [
    "# Input layer (auxilary)\n",
    "input_layer = lasagne.layers.InputLayer(shape=input_shape, input_var=input_X)\n",
    "\n",
    "# fully connected layer, that takes input layer and applies 50 neurons to it.\n",
    "# nonlinearity here is sigmoid as in logistic regression\n",
    "# you can give a name to each layer (optional)\n",
    "\n",
    "conv0 = lasagne.layers.Conv2DLayer(input_layer, 20,[5,5],name='conv0')\n",
    "pool0 = lasagne.layers.MaxPool2DLayer(conv0, [5,5],name='pool0')\n",
    "\n",
    "drop0 = lasagne.layers.DropoutLayer(pool0, p=0.1)\n",
    "\n",
    "dense_1 = lasagne.layers.DenseLayer(drop0, num_units=50,\n",
    "                                    nonlinearity=super_fun,\n",
    "                                    name=\"hidden_dense_layer\")\n",
    "\n",
    "# fully connected output layer that takes dense_1 as input and has 10 neurons (1 for each digit)\n",
    "# We use softmax nonlinearity to make probabilities add up to 1\n",
    "dense_output = lasagne.layers.DenseLayer(dense_1, num_units=10,\n",
    "                                         nonlinearity=lasagne.nonlinearities.softmax,\n",
    "                                         name='output')\n"
   ]
  },
  {
   "cell_type": "code",
   "execution_count": 125,
   "metadata": {
    "collapsed": true
   },
   "outputs": [],
   "source": [
    "# network prediction (theano-transformation)\n",
    "y_predicted = lasagne.layers.get_output(dense_output)\n"
   ]
  },
  {
   "cell_type": "code",
   "execution_count": 126,
   "metadata": {
    "collapsed": false
   },
   "outputs": [
    {
     "name": "stdout",
     "output_type": "stream",
     "text": [
      "[conv0.W, conv0.b, hidden_dense_layer.W, hidden_dense_layer.b, output.W, output.b]\n"
     ]
    }
   ],
   "source": [
    "# All weights (shared-varaibles)\n",
    "# \"trainable\" flag means not to return auxilary params like batch mean (for batch normalization)\n",
    "all_weights = lasagne.layers.get_all_params(dense_output, trainable=True)\n",
    "print all_weights\n"
   ]
  },
  {
   "cell_type": "markdown",
   "metadata": {},
   "source": [
    "### Now you can simply\n",
    "\n",
    "* define loss function manually\n",
    "* compute error gradient over all weights\n",
    "* define updates\n",
    "* But that's a whole lot of work and life's short\n",
    "  * not to mention life's too short to wait for SGD to converge!\n",
    "\n",
    "Instead, we shall use `Lasagne` builtins (Lasagne is has lots of noce helpers over `theano`)"
   ]
  },
  {
   "cell_type": "code",
   "execution_count": 114,
   "metadata": {
    "collapsed": true
   },
   "outputs": [],
   "source": [
    "reg_l2 = lasagne.regularization.regularize_network_params(dense_output,\n",
    "                                                         lasagne.regularization.l2)\n",
    "\n",
    "reg_l1 = lasagne.regularization.regularize_network_params(dense_output,\n",
    "                                                         lasagne.regularization.l1)"
   ]
  },
  {
   "cell_type": "code",
   "execution_count": 115,
   "metadata": {
    "collapsed": false
   },
   "outputs": [
    {
     "data": {
      "text/plain": [
       "Elemwise{add,no_inplace}.0"
      ]
     },
     "execution_count": 115,
     "metadata": {},
     "output_type": "execute_result"
    }
   ],
   "source": []
  },
  {
   "cell_type": "code",
   "execution_count": 117,
   "metadata": {
    "collapsed": true
   },
   "outputs": [],
   "source": [
    "# Mean categorical crossentropy as a loss function - similar to logistic loss but for multiclass targets\n",
    "loss = lasagne.objectives.categorical_crossentropy(y_predicted, target_y).mean()\n",
    "\n",
    "loss += reg_l1+reg_l2\n",
    "# prediction accuracy\n",
    "accuracy = lasagne.objectives.categorical_accuracy(y_predicted, target_y).mean()\n",
    "\n",
    "# This function computes gradient AND composes weight updates just like you did earlier\n",
    "updates_sgd = lasagne.updates.adamax(loss, all_weights, learning_rate=0.01)\n"
   ]
  },
  {
   "cell_type": "code",
   "execution_count": 103,
   "metadata": {
    "collapsed": false
   },
   "outputs": [
    {
     "data": {
      "text/plain": [
       "OrderedDict([(<TensorType(float64, 4D)>, Elemwise{add,no_inplace}.0),\n",
       "             (<TensorType(float64, 4D)>, Elemwise{maximum,no_inplace}.0),\n",
       "             (conv0.W, Elemwise{sub,no_inplace}.0),\n",
       "             (<TensorType(float64, vector)>, Elemwise{add,no_inplace}.0),\n",
       "             (<TensorType(float64, vector)>, Elemwise{maximum,no_inplace}.0),\n",
       "             (conv0.b, Elemwise{sub,no_inplace}.0),\n",
       "             (<TensorType(float64, matrix)>, Elemwise{add,no_inplace}.0),\n",
       "             (<TensorType(float64, matrix)>, Elemwise{maximum,no_inplace}.0),\n",
       "             (hidden_dense_layer.W, Elemwise{sub,no_inplace}.0),\n",
       "             (<TensorType(float64, vector)>, Elemwise{add,no_inplace}.0),\n",
       "             (<TensorType(float64, vector)>, Elemwise{maximum,no_inplace}.0),\n",
       "             (hidden_dense_layer.b, Elemwise{sub,no_inplace}.0),\n",
       "             (<TensorType(float64, matrix)>, Elemwise{add,no_inplace}.0),\n",
       "             (<TensorType(float64, matrix)>, Elemwise{maximum,no_inplace}.0),\n",
       "             (output.W, Elemwise{sub,no_inplace}.0),\n",
       "             (<TensorType(float64, vector)>, Elemwise{add,no_inplace}.0),\n",
       "             (<TensorType(float64, vector)>, Elemwise{maximum,no_inplace}.0),\n",
       "             (output.b, Elemwise{sub,no_inplace}.0),\n",
       "             (<TensorType(float64, scalar)>, Elemwise{add,no_inplace}.0)])"
      ]
     },
     "execution_count": 103,
     "metadata": {},
     "output_type": "execute_result"
    }
   ],
   "source": [
    "updates_sgd"
   ]
  },
  {
   "cell_type": "code",
   "execution_count": 104,
   "metadata": {
    "collapsed": true
   },
   "outputs": [],
   "source": [
    "# function that computes loss and updates weights\n",
    "train_fun = theano.function([input_X,target_y],[loss,accuracy],updates= updates_sgd)\n",
    "\n",
    "# function that just computes accuracy\n",
    "accuracy_fun = theano.function([input_X,target_y],accuracy)"
   ]
  },
  {
   "cell_type": "markdown",
   "metadata": {},
   "source": [
    "### That's all, now let's train it!\n",
    "* We got a lot of data, so it's recommended that you use *stochastic* GD\n",
    "* So let's implement a function that splits the training sample into minibatches"
   ]
  },
  {
   "cell_type": "code",
   "execution_count": 105,
   "metadata": {
    "collapsed": true
   },
   "outputs": [],
   "source": [
    "# An auxilary function that returns mini-batches for neural network training\n",
    "\n",
    "# What do need to implement\n",
    "# 1) Shuffle data\n",
    "#    - Gotta shuffle X and y the same way (not to break the correspondence between X_i and y_i)\n",
    "# 3) Split data into minibatches of batch_size\n",
    "#    - If data size is not a multiple of a batch_size, make one last batch smaller.\n",
    "# 4) return a list (or an iterator) of pairs\n",
    "#    - (image batch, labels for that batch)\n",
    "\n",
    "\n",
    "\n",
    "def iterate_minibatches(inputs, targets, batchsize):\n",
    "    shuffle = True\n",
    "    assert len(inputs) == len(targets)\n",
    "    if shuffle:\n",
    "        indices = np.arange(len(inputs))\n",
    "        np.random.shuffle(indices)\n",
    "    for start_idx in range(0, len(inputs) - batchsize + 1, batchsize):\n",
    "        if shuffle:\n",
    "            excerpt = indices[start_idx:start_idx + batchsize]\n",
    "        else:\n",
    "            excerpt = slice(start_idx, start_idx + batchsize)\n",
    "        yield inputs[excerpt], targets[excerpt]       \n",
    "#\n",
    "#\n",
    "#\n",
    "#\n",
    "#\n",
    "#\n",
    "#\n",
    "#\n",
    "# Feel lost? Go search for a similar function at\n",
    "# https://github.com/Lasagne/Lasagne/blob/master/examples/mnist.py"
   ]
  },
  {
   "cell_type": "markdown",
   "metadata": {},
   "source": [
    "# Training loop"
   ]
  },
  {
   "cell_type": "code",
   "execution_count": 106,
   "metadata": {
    "collapsed": false
   },
   "outputs": [
    {
     "name": "stdout",
     "output_type": "stream",
     "text": [
      "Epoch 1 of 100 took 2.316s\n",
      "  training loss (in-iteration):\t\t1.095256\n",
      "  train accuracy:\t\t69.33 %\n",
      "  validation accuracy:\t\t69.96 %\n",
      "Epoch 2 of 100 took 2.033s\n",
      "  training loss (in-iteration):\t\t1.037289\n",
      "  train accuracy:\t\t69.12 %\n",
      "  validation accuracy:\t\t68.02 %\n",
      "Epoch 3 of 100 took 2.165s\n",
      "  training loss (in-iteration):\t\t0.948793\n",
      "  train accuracy:\t\t71.59 %\n",
      "  validation accuracy:\t\t69.92 %\n",
      "Epoch 4 of 100 took 2.085s\n",
      "  training loss (in-iteration):\t\t0.980528\n",
      "  train accuracy:\t\t70.04 %\n",
      "  validation accuracy:\t\t70.18 %\n",
      "Epoch 5 of 100 took 2.163s\n",
      "  training loss (in-iteration):\t\t0.973239\n",
      "  train accuracy:\t\t68.90 %\n",
      "  validation accuracy:\t\t70.61 %\n",
      "Epoch 6 of 100 took 2.068s\n",
      "  training loss (in-iteration):\t\t0.927795\n",
      "  train accuracy:\t\t69.69 %\n",
      "  validation accuracy:\t\t70.41 %\n",
      "Epoch 7 of 100 took 2.095s\n",
      "  training loss (in-iteration):\t\t0.898567\n",
      "  train accuracy:\t\t70.31 %\n",
      "  validation accuracy:\t\t69.92 %\n",
      "Epoch 8 of 100 took 2.024s\n",
      "  training loss (in-iteration):\t\t0.866476\n",
      "  train accuracy:\t\t70.84 %\n",
      "  validation accuracy:\t\t69.39 %\n",
      "Epoch 9 of 100 took 2.043s\n",
      "  training loss (in-iteration):\t\t0.870677\n",
      "  train accuracy:\t\t69.86 %\n",
      "  validation accuracy:\t\t75.16 %\n",
      "Epoch 10 of 100 took 2.032s\n",
      "  training loss (in-iteration):\t\t0.832518\n",
      "  train accuracy:\t\t73.24 %\n",
      "  validation accuracy:\t\t75.47 %\n",
      "Epoch 11 of 100 took 1.990s\n",
      "  training loss (in-iteration):\t\t0.819155\n",
      "  train accuracy:\t\t76.39 %\n",
      "  validation accuracy:\t\t75.96 %\n",
      "Epoch 12 of 100 took 2.090s\n",
      "  training loss (in-iteration):\t\t0.814309\n",
      "  train accuracy:\t\t76.39 %\n",
      "  validation accuracy:\t\t75.73 %\n",
      "Epoch 13 of 100 took 2.076s\n",
      "  training loss (in-iteration):\t\t0.798341\n",
      "  train accuracy:\t\t76.41 %\n",
      "  validation accuracy:\t\t75.94 %\n",
      "Epoch 14 of 100 took 2.083s\n",
      "  training loss (in-iteration):\t\t0.801457\n",
      "  train accuracy:\t\t76.29 %\n",
      "  validation accuracy:\t\t75.39 %\n",
      "Epoch 15 of 100 took 2.404s\n",
      "  training loss (in-iteration):\t\t0.792313\n",
      "  train accuracy:\t\t75.88 %\n",
      "  validation accuracy:\t\t77.29 %\n",
      "Epoch 16 of 100 took 1.990s\n",
      "  training loss (in-iteration):\t\t0.781311\n",
      "  train accuracy:\t\t76.69 %\n",
      "  validation accuracy:\t\t75.94 %\n",
      "Epoch 17 of 100 took 2.023s\n",
      "  training loss (in-iteration):\t\t0.770087\n",
      "  train accuracy:\t\t76.45 %\n",
      "  validation accuracy:\t\t76.14 %\n",
      "Epoch 18 of 100 took 2.483s\n",
      "  training loss (in-iteration):\t\t0.756934\n",
      "  train accuracy:\t\t76.71 %\n",
      "  validation accuracy:\t\t76.02 %\n",
      "Epoch 19 of 100 took 2.245s\n",
      "  training loss (in-iteration):\t\t0.743912\n",
      "  train accuracy:\t\t76.82 %\n",
      "  validation accuracy:\t\t76.37 %\n",
      "Epoch 20 of 100 took 2.182s\n",
      "  training loss (in-iteration):\t\t0.736485\n",
      "  train accuracy:\t\t76.12 %\n",
      "  validation accuracy:\t\t76.92 %\n",
      "Epoch 21 of 100 took 2.251s\n",
      "  training loss (in-iteration):\t\t0.675302\n",
      "  train accuracy:\t\t76.86 %\n",
      "  validation accuracy:\t\t75.90 %\n",
      "Epoch 22 of 100 took 1.992s\n",
      "  training loss (in-iteration):\t\t0.646855\n",
      "  train accuracy:\t\t76.14 %\n",
      "  validation accuracy:\t\t75.75 %\n",
      "Epoch 23 of 100 took 2.042s\n",
      "  training loss (in-iteration):\t\t0.624636\n",
      "  train accuracy:\t\t76.76 %\n",
      "  validation accuracy:\t\t78.35 %\n",
      "Epoch 24 of 100 took 2.038s\n",
      "  training loss (in-iteration):\t\t0.575263\n",
      "  train accuracy:\t\t81.47 %\n",
      "  validation accuracy:\t\t85.27 %\n",
      "Epoch 25 of 100 took 1.977s\n",
      "  training loss (in-iteration):\t\t0.543958\n",
      "  train accuracy:\t\t85.51 %\n",
      "  validation accuracy:\t\t84.76 %\n",
      "Epoch 26 of 100 took 2.036s\n",
      "  training loss (in-iteration):\t\t0.539770\n",
      "  train accuracy:\t\t85.69 %\n",
      "  validation accuracy:\t\t85.29 %\n",
      "Epoch 27 of 100 took 1.996s\n",
      "  training loss (in-iteration):\t\t0.510651\n",
      "  train accuracy:\t\t86.39 %\n",
      "  validation accuracy:\t\t87.24 %\n",
      "Epoch 28 of 100 took 2.018s\n",
      "  training loss (in-iteration):\t\t0.509430\n",
      "  train accuracy:\t\t85.84 %\n",
      "  validation accuracy:\t\t87.35 %\n",
      "Epoch 29 of 100 took 2.123s\n",
      "  training loss (in-iteration):\t\t0.503369\n",
      "  train accuracy:\t\t85.96 %\n",
      "  validation accuracy:\t\t85.45 %\n",
      "Epoch 30 of 100 took 2.131s\n",
      "  training loss (in-iteration):\t\t0.485334\n",
      "  train accuracy:\t\t86.49 %\n",
      "  validation accuracy:\t\t86.31 %\n",
      "Epoch 31 of 100 took 1.976s\n",
      "  training loss (in-iteration):\t\t0.466407\n",
      "  train accuracy:\t\t86.27 %\n",
      "  validation accuracy:\t\t85.88 %\n",
      "Epoch 32 of 100 took 2.101s\n",
      "  training loss (in-iteration):\t\t0.449380\n",
      "  train accuracy:\t\t86.51 %\n",
      "  validation accuracy:\t\t87.16 %\n",
      "Epoch 33 of 100 took 2.002s\n",
      "  training loss (in-iteration):\t\t0.444638\n",
      "  train accuracy:\t\t86.86 %\n",
      "  validation accuracy:\t\t87.67 %\n",
      "Epoch 34 of 100 took 2.042s\n",
      "  training loss (in-iteration):\t\t0.411033\n",
      "  train accuracy:\t\t86.88 %\n",
      "  validation accuracy:\t\t87.14 %\n",
      "Epoch 35 of 100 took 1.990s\n",
      "  training loss (in-iteration):\t\t0.431798\n",
      "  train accuracy:\t\t86.59 %\n",
      "  validation accuracy:\t\t86.80 %\n",
      "Epoch 36 of 100 took 2.030s\n",
      "  training loss (in-iteration):\t\t0.367749\n",
      "  train accuracy:\t\t88.12 %\n",
      "  validation accuracy:\t\t87.41 %\n",
      "Epoch 37 of 100 took 2.050s\n",
      "  training loss (in-iteration):\t\t0.375461\n",
      "  train accuracy:\t\t87.35 %\n",
      "  validation accuracy:\t\t87.47 %\n",
      "Epoch 38 of 100 took 1.969s\n",
      "  training loss (in-iteration):\t\t0.366482\n",
      "  train accuracy:\t\t88.22 %\n",
      "  validation accuracy:\t\t87.84 %\n",
      "Epoch 39 of 100 took 1.979s\n",
      "  training loss (in-iteration):\t\t0.375647\n",
      "  train accuracy:\t\t87.88 %\n",
      "  validation accuracy:\t\t87.20 %\n",
      "Epoch 40 of 100 took 1.968s\n",
      "  training loss (in-iteration):\t\t0.376820\n",
      "  train accuracy:\t\t87.78 %\n",
      "  validation accuracy:\t\t88.10 %\n",
      "Epoch 41 of 100 took 1.991s\n",
      "  training loss (in-iteration):\t\t0.363655\n",
      "  train accuracy:\t\t87.84 %\n",
      "  validation accuracy:\t\t87.39 %\n",
      "Epoch 42 of 100 took 2.064s\n",
      "  training loss (in-iteration):\t\t0.386686\n",
      "  train accuracy:\t\t87.18 %\n",
      "  validation accuracy:\t\t88.22 %\n",
      "Epoch 43 of 100 took 2.115s\n",
      "  training loss (in-iteration):\t\t0.368360\n",
      "  train accuracy:\t\t87.43 %\n",
      "  validation accuracy:\t\t88.53 %\n",
      "Epoch 44 of 100 took 2.492s\n",
      "  training loss (in-iteration):\t\t0.370523\n",
      "  train accuracy:\t\t87.51 %\n",
      "  validation accuracy:\t\t88.78 %\n",
      "Epoch 45 of 100 took 2.297s\n",
      "  training loss (in-iteration):\t\t0.348302\n",
      "  train accuracy:\t\t88.61 %\n",
      "  validation accuracy:\t\t88.84 %\n",
      "Epoch 46 of 100 took 2.159s\n",
      "  training loss (in-iteration):\t\t0.335773\n",
      "  train accuracy:\t\t88.14 %\n",
      "  validation accuracy:\t\t88.78 %\n",
      "Epoch 47 of 100 took 2.302s\n",
      "  training loss (in-iteration):\t\t0.348806\n",
      "  train accuracy:\t\t88.31 %\n",
      "  validation accuracy:\t\t88.37 %\n",
      "Epoch 48 of 100 took 2.294s\n",
      "  training loss (in-iteration):\t\t0.355436\n",
      "  train accuracy:\t\t87.88 %\n",
      "  validation accuracy:\t\t87.24 %\n",
      "Epoch 49 of 100 took 2.439s\n",
      "  training loss (in-iteration):\t\t0.342438\n",
      "  train accuracy:\t\t88.02 %\n",
      "  validation accuracy:\t\t88.22 %\n",
      "Epoch 50 of 100 took 2.164s\n",
      "  training loss (in-iteration):\t\t0.346661\n",
      "  train accuracy:\t\t88.51 %\n",
      "  validation accuracy:\t\t88.80 %\n",
      "Epoch 51 of 100 took 2.073s\n",
      "  training loss (in-iteration):\t\t0.337345\n",
      "  train accuracy:\t\t88.20 %\n",
      "  validation accuracy:\t\t87.59 %\n",
      "Epoch 52 of 100 took 1.984s\n",
      "  training loss (in-iteration):\t\t0.355726\n",
      "  train accuracy:\t\t87.47 %\n",
      "  validation accuracy:\t\t88.69 %\n",
      "Epoch 53 of 100 took 1.978s\n",
      "  training loss (in-iteration):\t\t0.330925\n",
      "  train accuracy:\t\t88.59 %\n",
      "  validation accuracy:\t\t88.29 %\n",
      "Epoch 54 of 100 took 1.943s\n",
      "  training loss (in-iteration):\t\t0.325213\n",
      "  train accuracy:\t\t88.96 %\n",
      "  validation accuracy:\t\t88.92 %\n",
      "Epoch 55 of 100 took 2.009s\n",
      "  training loss (in-iteration):\t\t0.352039\n",
      "  train accuracy:\t\t87.78 %\n",
      "  validation accuracy:\t\t87.71 %\n",
      "Epoch 56 of 100 took 2.059s\n",
      "  training loss (in-iteration):\t\t0.341037\n",
      "  train accuracy:\t\t88.22 %\n",
      "  validation accuracy:\t\t87.78 %\n",
      "Epoch 57 of 100 took 1.965s\n",
      "  training loss (in-iteration):\t\t0.335826\n",
      "  train accuracy:\t\t88.20 %\n",
      "  validation accuracy:\t\t88.92 %\n",
      "Epoch 58 of 100 took 2.018s\n",
      "  training loss (in-iteration):\t\t0.334792\n",
      "  train accuracy:\t\t88.75 %\n",
      "  validation accuracy:\t\t88.18 %\n",
      "Epoch 59 of 100 took 2.070s\n",
      "  training loss (in-iteration):\t\t0.334384\n",
      "  train accuracy:\t\t87.76 %\n",
      "  validation accuracy:\t\t88.53 %\n",
      "Epoch 60 of 100 took 1.949s\n",
      "  training loss (in-iteration):\t\t0.347489\n",
      "  train accuracy:\t\t88.20 %\n",
      "  validation accuracy:\t\t88.08 %\n",
      "Epoch 61 of 100 took 2.068s\n",
      "  training loss (in-iteration):\t\t0.328099\n",
      "  train accuracy:\t\t88.65 %\n",
      "  validation accuracy:\t\t88.43 %\n",
      "Epoch 62 of 100 took 2.119s\n",
      "  training loss (in-iteration):\t\t0.346382\n",
      "  train accuracy:\t\t88.27 %\n",
      "  validation accuracy:\t\t89.04 %\n",
      "Epoch 63 of 100 took 2.082s\n",
      "  training loss (in-iteration):\t\t0.327723\n",
      "  train accuracy:\t\t88.84 %\n",
      "  validation accuracy:\t\t87.92 %\n",
      "Epoch 64 of 100 took 2.111s\n",
      "  training loss (in-iteration):\t\t0.336392\n",
      "  train accuracy:\t\t87.84 %\n",
      "  validation accuracy:\t\t88.53 %\n",
      "Epoch 65 of 100 took 2.249s\n",
      "  training loss (in-iteration):\t\t0.340505\n",
      "  train accuracy:\t\t88.47 %\n",
      "  validation accuracy:\t\t88.90 %\n",
      "Epoch 66 of 100 took 2.018s\n",
      "  training loss (in-iteration):\t\t0.332777\n",
      "  train accuracy:\t\t88.16 %\n",
      "  validation accuracy:\t\t88.43 %\n",
      "Epoch 67 of 100 took 2.053s\n",
      "  training loss (in-iteration):\t\t0.341069\n",
      "  train accuracy:\t\t88.20 %\n",
      "  validation accuracy:\t\t88.24 %\n",
      "Epoch 68 of 100 took 2.060s\n",
      "  training loss (in-iteration):\t\t0.332550\n",
      "  train accuracy:\t\t88.35 %\n",
      "  validation accuracy:\t\t88.33 %\n",
      "Epoch 69 of 100 took 2.032s\n",
      "  training loss (in-iteration):\t\t0.346192\n",
      "  train accuracy:\t\t87.90 %\n",
      "  validation accuracy:\t\t88.53 %\n",
      "Epoch 70 of 100 took 2.103s\n",
      "  training loss (in-iteration):\t\t0.334508\n",
      "  train accuracy:\t\t88.31 %\n",
      "  validation accuracy:\t\t88.37 %\n",
      "Epoch 71 of 100 took 2.097s\n",
      "  training loss (in-iteration):\t\t0.327361\n",
      "  train accuracy:\t\t88.22 %\n",
      "  validation accuracy:\t\t89.78 %\n",
      "Epoch 72 of 100 took 2.276s\n",
      "  training loss (in-iteration):\t\t0.346308\n",
      "  train accuracy:\t\t87.39 %\n",
      "  validation accuracy:\t\t88.49 %\n",
      "Epoch 73 of 100 took 2.000s\n",
      "  training loss (in-iteration):\t\t0.330511\n",
      "  train accuracy:\t\t88.75 %\n",
      "  validation accuracy:\t\t89.25 %\n",
      "Epoch 74 of 100 took 2.057s\n",
      "  training loss (in-iteration):\t\t0.330781\n",
      "  train accuracy:\t\t88.43 %\n",
      "  validation accuracy:\t\t88.55 %\n",
      "Epoch 75 of 100 took 2.151s\n",
      "  training loss (in-iteration):\t\t0.313271\n",
      "  train accuracy:\t\t88.98 %\n",
      "  validation accuracy:\t\t88.65 %\n",
      "Epoch 76 of 100 took 2.155s\n",
      "  training loss (in-iteration):\t\t0.343359\n",
      "  train accuracy:\t\t87.69 %\n",
      "  validation accuracy:\t\t88.57 %\n",
      "Epoch 77 of 100 took 2.345s\n",
      "  training loss (in-iteration):\t\t0.332895\n",
      "  train accuracy:\t\t88.49 %\n",
      "  validation accuracy:\t\t89.29 %\n",
      "Epoch 78 of 100 took 2.408s\n",
      "  training loss (in-iteration):\t\t0.316918\n",
      "  train accuracy:\t\t89.20 %\n",
      "  validation accuracy:\t\t88.82 %\n",
      "Epoch 79 of 100 took 1.982s\n",
      "  training loss (in-iteration):\t\t0.333985\n",
      "  train accuracy:\t\t88.29 %\n",
      "  validation accuracy:\t\t89.18 %\n",
      "Epoch 80 of 100 took 2.097s\n",
      "  training loss (in-iteration):\t\t0.317321\n",
      "  train accuracy:\t\t89.25 %\n",
      "  validation accuracy:\t\t88.22 %\n",
      "Epoch 81 of 100 took 2.026s\n",
      "  training loss (in-iteration):\t\t0.312064\n",
      "  train accuracy:\t\t88.69 %\n",
      "  validation accuracy:\t\t87.98 %\n",
      "Epoch 82 of 100 took 1.979s\n",
      "  training loss (in-iteration):\t\t0.325884\n",
      "  train accuracy:\t\t87.96 %\n",
      "  validation accuracy:\t\t89.25 %\n",
      "Epoch 83 of 100 took 1.967s\n",
      "  training loss (in-iteration):\t\t0.327268\n",
      "  train accuracy:\t\t88.65 %\n",
      "  validation accuracy:\t\t88.75 %\n",
      "Epoch 84 of 100 took 2.033s\n",
      "  training loss (in-iteration):\t\t0.309153\n",
      "  train accuracy:\t\t88.96 %\n",
      "  validation accuracy:\t\t88.39 %\n",
      "Epoch 85 of 100 took 2.038s\n",
      "  training loss (in-iteration):\t\t0.312548\n",
      "  train accuracy:\t\t88.47 %\n",
      "  validation accuracy:\t\t88.98 %\n",
      "Epoch 86 of 100 took 2.004s\n",
      "  training loss (in-iteration):\t\t0.318699\n",
      "  train accuracy:\t\t88.55 %\n",
      "  validation accuracy:\t\t88.47 %\n",
      "Epoch 87 of 100 took 2.010s\n",
      "  training loss (in-iteration):\t\t0.300914\n",
      "  train accuracy:\t\t89.22 %\n",
      "  validation accuracy:\t\t88.39 %\n",
      "Epoch 88 of 100 took 1.968s\n",
      "  training loss (in-iteration):\t\t0.319881\n",
      "  train accuracy:\t\t88.67 %\n",
      "  validation accuracy:\t\t89.29 %\n",
      "Epoch 89 of 100 took 1.973s\n",
      "  training loss (in-iteration):\t\t0.321652\n",
      "  train accuracy:\t\t88.88 %\n",
      "  validation accuracy:\t\t88.49 %\n",
      "Epoch 90 of 100 took 1.997s\n",
      "  training loss (in-iteration):\t\t0.317275\n",
      "  train accuracy:\t\t89.10 %\n",
      "  validation accuracy:\t\t88.45 %\n",
      "Epoch 91 of 100 took 2.060s\n",
      "  training loss (in-iteration):\t\t0.301158\n",
      "  train accuracy:\t\t89.55 %\n",
      "  validation accuracy:\t\t87.92 %\n",
      "Epoch 92 of 100 took 1.989s\n",
      "  training loss (in-iteration):\t\t0.319779\n",
      "  train accuracy:\t\t88.76 %\n",
      "  validation accuracy:\t\t89.12 %\n",
      "Epoch 93 of 100 took 1.982s\n",
      "  training loss (in-iteration):\t\t0.322982\n",
      "  train accuracy:\t\t88.82 %\n",
      "  validation accuracy:\t\t88.94 %\n",
      "Epoch 94 of 100 took 1.998s\n",
      "  training loss (in-iteration):\t\t0.293538\n",
      "  train accuracy:\t\t89.33 %\n",
      "  validation accuracy:\t\t88.29 %\n",
      "Epoch 95 of 100 took 2.017s\n",
      "  training loss (in-iteration):\t\t0.301717\n",
      "  train accuracy:\t\t89.20 %\n",
      "  validation accuracy:\t\t89.02 %\n",
      "Epoch 96 of 100 took 1.964s\n",
      "  training loss (in-iteration):\t\t0.312023\n",
      "  train accuracy:\t\t88.51 %\n",
      "  validation accuracy:\t\t88.84 %\n",
      "Epoch 97 of 100 took 1.976s\n",
      "  training loss (in-iteration):\t\t0.307777\n",
      "  train accuracy:\t\t88.67 %\n",
      "  validation accuracy:\t\t89.08 %\n",
      "Epoch 98 of 100 took 1.977s\n",
      "  training loss (in-iteration):\t\t0.300695\n",
      "  train accuracy:\t\t89.20 %\n",
      "  validation accuracy:\t\t89.65 %\n",
      "Epoch 99 of 100 took 1.984s\n",
      "  training loss (in-iteration):\t\t0.301847\n",
      "  train accuracy:\t\t89.33 %\n",
      "  validation accuracy:\t\t89.35 %\n",
      "Epoch 100 of 100 took 2.053s\n",
      "  training loss (in-iteration):\t\t0.302089\n",
      "  train accuracy:\t\t89.14 %\n",
      "  validation accuracy:\t\t89.08 %\n"
     ]
    }
   ],
   "source": [
    "# training loop\n",
    "import time\n",
    "\n",
    "num_epochs = 100\n",
    "minibatches_per_epoch = 50\n",
    "batch_size = 100\n",
    "\n",
    "for epoch in range(num_epochs):\n",
    "    # In each epoch, we do a full pass over the training data:\n",
    "    train_err = 0\n",
    "    train_acc = 0\n",
    "    train_batches = 0\n",
    "    start_time = time.time()\n",
    "    for i, batch in enumerate(iterate_minibatches(X_train, y_train, batch_size)):\n",
    "        if i > minibatches_per_epoch: break\n",
    "        inputs, targets = batch\n",
    "        train_err_batch, train_acc_batch = train_fun(inputs, targets)\n",
    "        train_err += train_err_batch\n",
    "        train_acc += train_acc_batch\n",
    "        train_batches += 1\n",
    "\n",
    "    # And a full pass over the validation data:\n",
    "    val_acc = 0\n",
    "    val_batches = 0\n",
    "    for i, batch in enumerate(iterate_minibatches(X_val, y_val, batch_size)):\n",
    "        if i > minibatches_per_epoch: break\n",
    "        inputs, targets = batch\n",
    "        val_acc += accuracy_fun(inputs, targets)\n",
    "        val_batches += 1\n",
    "\n",
    "    # Then we print the results for this epoch:\n",
    "    print(\"Epoch {} of {} took {:.3f}s\".format(\n",
    "        epoch + 1, num_epochs, time.time() - start_time))\n",
    "\n",
    "    print(\"  training loss (in-iteration):\\t\\t{:.6f}\".format(train_err / train_batches))\n",
    "    print(\"  train accuracy:\\t\\t{:.2f} %\".format(\n",
    "        train_acc / train_batches * 100))\n",
    "    print(\"  validation accuracy:\\t\\t{:.2f} %\".format(\n",
    "        val_acc / val_batches * 100))\n"
   ]
  },
  {
   "cell_type": "code",
   "execution_count": 107,
   "metadata": {
    "collapsed": false
   },
   "outputs": [
    {
     "name": "stdout",
     "output_type": "stream",
     "text": [
      "Final results:\n",
      "  test accuracy:\t\t2.58 %\n",
      "We need more magic!\n"
     ]
    }
   ],
   "source": [
    "test_acc = 0\n",
    "test_batches = 0\n",
    "for batch in iterate_minibatches(X_test, y_test, 500):\n",
    "    inputs, targets = batch\n",
    "    acc = accuracy_fun(inputs, targets)\n",
    "    test_acc += acc\n",
    "    test_batches += 1\n",
    "print(\"Final results:\")\n",
    "print(\"  test accuracy:\\t\\t{:.2f} %\".format(\n",
    "    test_acc / test_batches * 100))\n",
    "\n",
    "if test_acc / test_batches * 100 > 99:\n",
    "    print \"Achievement unlocked: 80lvl Warlock!\"\n",
    "else:\n",
    "    print \"We need more magic!\"\n"
   ]
  },
  {
   "cell_type": "markdown",
   "metadata": {},
   "source": [
    "# Quest for a better network\n",
    "\n",
    "The quest is to create a network that gets at least 99% at test set\n",
    "\n",
    "\n",
    "## Tips on what can be done:\n",
    "\n",
    "Network size\n",
    "* more neurons?\n",
    "* more layers?\n",
    "* more of more??\n",
    "   \n",
    "Regularize to prevent overfitting\n",
    "* Add some L2 weight norm to the loss function, theano will do the rest\n",
    "* Can be done manually or via [lasagne helper](http://lasagne.readthedocs.org/en/latest/modules/regularization.html)\n",
    "   \n",
    "   \n",
    "Better optimization techniques:\n",
    "* rmsprop, nesterov_momentum, adadelta, adagrad and so on.\n",
    "* Converge faster and sometimes reach better optima\n",
    "* It might make sense to tweak learning rate, other learning parameters, batch size and number of epochs\n",
    "   \n",
    "   \n",
    "Dropout - to prevent overfitting\n",
    "* `lasagne.layers.DropoutLayer(prev_layer, p=probability_to_zero_out)`\n",
    "   \n",
    "\n",
    "Convolution layers\n",
    "* `network = lasagne.layers.Conv2DLayer(prev_layer,`\n",
    "  `                       num_filters = n_neurons,`\n",
    "  `                       filter_size = (filter width, filter height),`\n",
    "  `                       nonlinearity = some_nonlinearity)`\n",
    "* Warning! Training convolutional networks can take long without GPU.\n",
    "* If you are CPU-only, we still recommend to try a simple convolutional architecture\n",
    "* a perfect option is if you can set it up to run at nighttime and check it up at the morning.\n",
    " \n",
    "\n",
    "Plenty of [other layers and architectures](http://lasagne.readthedocs.org/en/latest/modules/layers.html)\n",
    "and also we can use different nonlinearities in the hidden layers\n",
    "(tanh, relu, leaky relu, ...)\n",
    "\n",
    "\n",
    "There is a template for your solution wich you can use (or not use - up to you)."
   ]
  },
  {
   "cell_type": "code",
   "execution_count": null,
   "metadata": {
    "collapsed": true
   },
   "outputs": [],
   "source": [
    "from notmnist import load_dataset\n",
    "\n",
    "X_train, y_train, X_val, y_val, X_test, y_test = load_dataset()\n",
    "\n",
    "print X_train.shape, y_train.shape\n"
   ]
  },
  {
   "cell_type": "code",
   "execution_count": null,
   "metadata": {
    "collapsed": true
   },
   "outputs": [],
   "source": [
    "import lasagne\n",
    "import theano.tensor as T\n",
    "\n",
    "input_X = T.tensor4(\"X\")\n",
    "\n",
    "# input dimention (None means \"Arbitrary\" and only works at  the first axes [samples])\n",
    "input_shape = [None, 1, 28, 28]\n",
    "\n",
    "target_y = T.vector(\"target Y integer\", dtype='int32')\n"
   ]
  },
  {
   "cell_type": "code",
   "execution_count": null,
   "metadata": {
    "collapsed": true
   },
   "outputs": [],
   "source": [
    "# Input layer (auxilary)\n",
    "input_layer = lasagne.layers.InputLayer(shape = input_shape,input_var=input_X)\n",
    "\n",
    "<student.code_neural_network_architecture()>\n",
    "\n",
    "dense_output = <your network output>"
   ]
  },
  {
   "cell_type": "code",
   "execution_count": null,
   "metadata": {
    "collapsed": true
   },
   "outputs": [],
   "source": [
    "# Network predictions (theano-transformation)\n",
    "y_predicted = lasagne.layers.get_output(dense_output)"
   ]
  },
  {
   "cell_type": "code",
   "execution_count": null,
   "metadata": {
    "collapsed": true
   },
   "outputs": [],
   "source": [
    "# All weights (shared-varaibles)\n",
    "# \"trainable\" flag means not to return auxilary params like batch mean (for batch normalization)\n",
    "\n",
    "all_weights = lasagne.layers.get_all_params(dense_output, trainable=True)\n",
    "print all_weights"
   ]
  },
  {
   "cell_type": "code",
   "execution_count": null,
   "metadata": {
    "collapsed": true
   },
   "outputs": [],
   "source": [
    "# loss function\n",
    "loss = <loss function>\n",
    "\n",
    "# <optionally add regularization>\n",
    "\n",
    "accuracy = <mean accuracy score for evaluation> \n",
    "\n",
    "# weight updates\n",
    "updates = <try different update methods>"
   ]
  },
  {
   "cell_type": "code",
   "execution_count": null,
   "metadata": {
    "collapsed": true
   },
   "outputs": [],
   "source": [
    "import theano\n",
    "\n",
    "# A function that accepts X and y, returns loss functions and performs weight updates\n",
    "train_fun = theano.function([input_X, target_y], [loss, accuracy], updates=updates_sgd)\n",
    "\n",
    "# A function that just computes accuracy given X and y\n",
    "accuracy_fun = theano.function([input_X, target_y], accuracy)\n"
   ]
  },
  {
   "cell_type": "code",
   "execution_count": null,
   "metadata": {
    "collapsed": true
   },
   "outputs": [],
   "source": [
    "#training loop\n",
    "\n",
    "num_epochs = <how many times to iterate over the training set>\n",
    "\n",
    "minibatches_per_epoch = <how many minibatches to take at each epoch>\n",
    "\n",
    "batch_size = <how many samples are processed at a single function call>\n",
    "\n",
    "for epoch in range(num_epochs):\n",
    "    # In each epoch, we do a full pass over the training data:\n",
    "    train_err = 0\n",
    "    train_acc = 0\n",
    "    train_batches = 0\n",
    "    start_time = time.time()\n",
    "    for i,batch in enumerate(iterate_minibatches(X_train, y_train,batch_size)):\n",
    "        if i>minibatches_per_epoch: break\n",
    "        inputs, targets = batch\n",
    "        train_err_batch, train_acc_batch= train_fun(inputs, targets)\n",
    "        train_err += train_err_batch\n",
    "        train_acc += train_acc_batch\n",
    "        train_batches += 1\n",
    "\n",
    "    # And a full pass over the validation data:\n",
    "    val_acc = 0\n",
    "    val_batches = 0\n",
    "    for i,batch in enumerate(iterate_minibatches(X_val, y_val, batch_size)):\n",
    "        if i>minibatches_per_epoch:break\n",
    "        inputs, targets = batch\n",
    "        val_acc += accuracy_fun(inputs, targets)\n",
    "        val_batches += 1\n",
    "\n",
    "    \n",
    "    # Then we print the results for this epoch:\n",
    "    print(\"Epoch {} of {} took {:.3f}s\".format(\n",
    "        epoch + 1, num_epochs, time.time() - start_time))\n",
    "\n",
    "    print(\"  training loss (in-iteration):\\t\\t{:.6f}\".format(train_err / train_batches))\n",
    "    print(\"  train accuracy:\\t\\t{:.2f} %\".format(\n",
    "        train_acc / train_batches * 100))\n",
    "    print(\"  validation accuracy:\\t\\t{:.2f} %\".format(\n",
    "        val_acc / val_batches * 100))"
   ]
  },
  {
   "cell_type": "code",
   "execution_count": null,
   "metadata": {
    "collapsed": true
   },
   "outputs": [],
   "source": [
    "test_acc = 0\n",
    "test_batches = 0\n",
    "for batch in iterate_minibatches(X_test, y_test, 500):\n",
    "    inputs, targets = batch\n",
    "    acc = accuracy_fun(inputs, targets)\n",
    "    test_acc += acc\n",
    "    test_batches += 1\n",
    "print(\"Final results:\")\n",
    "print(\"  test accuracy:\\t\\t{:.2f} %\".format(\n",
    "    test_acc / test_batches * 100))\n",
    "\n",
    "if test_acc / test_batches * 100 > 99:\n",
    "    print \"Achievement unlocked: 80lvl Warlock!\"\n",
    "else:\n",
    "    print \"We need more magic!\""
   ]
  }
 ],
 "metadata": {
  "kernelspec": {
   "display_name": "Python 2",
   "language": "python",
   "name": "python2"
  },
  "language_info": {
   "codemirror_mode": {
    "name": "ipython",
    "version": 2
   },
   "file_extension": ".py",
   "mimetype": "text/x-python",
   "name": "python",
   "nbconvert_exporter": "python",
   "pygments_lexer": "ipython2",
   "version": "2.7.11"
  }
 },
 "nbformat": 4,
 "nbformat_minor": 0
}
