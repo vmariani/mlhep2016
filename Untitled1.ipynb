{
 "cells": [
  {
   "cell_type": "code",
   "execution_count": 1,
   "metadata": {
    "collapsed": false
   },
   "outputs": [
    {
     "name": "stdout",
     "output_type": "stream",
     "text": [
      "remote: Counting objects: 24, done.\u001b[K\n",
      "remote: Compressing objects: 100% (12/12), done.\u001b[K\n",
      "remote: Total 24 (delta 5), reused 3 (delta 3), pack-reused 8\u001b[K\n",
      "Unpacking objects: 100% (24/24), done.\n",
      "From https://github.com/yandexdataschool/mlhep2016\n",
      "   432b609..e8f822e  master     -> origin/master\n",
      "Auto-merging day_2/basic_seminars/2.5 Overfitting - seminar and exercise.ipynb\n",
      "CONFLICT (content): Merge conflict in day_2/basic_seminars/2.5 Overfitting - seminar and exercise.ipynb\n",
      "Automatic merge failed; fix conflicts and then commit the result.\n"
     ]
    }
   ],
   "source": [
    "!git pull"
   ]
  },
  {
   "cell_type": "code",
   "execution_count": null,
   "metadata": {
    "collapsed": true
   },
   "outputs": [],
   "source": []
  }
 ],
 "metadata": {
  "kernelspec": {
   "display_name": "Python 2",
   "language": "python",
   "name": "python2"
  },
  "language_info": {
   "codemirror_mode": {
    "name": "ipython",
    "version": 2
   },
   "file_extension": ".py",
   "mimetype": "text/x-python",
   "name": "python",
   "nbconvert_exporter": "python",
   "pygments_lexer": "ipython2",
   "version": "2.7.11"
  }
 },
 "nbformat": 4,
 "nbformat_minor": 0
}
