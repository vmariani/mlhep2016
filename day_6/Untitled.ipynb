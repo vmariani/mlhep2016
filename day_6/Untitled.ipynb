{
 "cells": [
  {
   "cell_type": "code",
   "execution_count": 1,
   "metadata": {
    "collapsed": false
   },
   "outputs": [
    {
     "name": "stdout",
     "output_type": "stream",
     "text": [
      "A\t3.1 Ensemble methods - seminar and exercises.ipynb\r\n",
      "A\t3.3 How to win at Kaggle.ipynb\r\n",
      "A\tManifold and decomposition.ipynb\r\n",
      "A\tday_2/JoaquinVanchoren_OpenML.pdf\r\n",
      "U\tday_2/basic_seminars/2.5 Overfitting - seminar and exercise.ipynb\r\n",
      "A\tday_4/lectures/DL_seminar0 (1).ipynb\r\n",
      "A\tday_4/lectures/NNintro.odp\r\n",
      "A\tday_4/lectures/NNintro.pdf\r\n",
      "A\tday_4/seminars/deeplearning/notmnist.py~\r\n",
      "A\tday_6/DL_seminar1.ipynb\r\n",
      "Pull is not possible because you have unmerged files.\r\n",
      "Please, fix them up in the work tree, and then use 'git add/rm <file>'\r\n",
      "as appropriate to mark resolution, or use 'git commit -a'.\r\n"
     ]
    }
   ],
   "source": [
    "!git pull"
   ]
  },
  {
   "cell_type": "code",
   "execution_count": 2,
   "metadata": {
    "collapsed": false
   },
   "outputs": [
    {
     "name": "stdout",
     "output_type": "stream",
     "text": [
      "On branch master\r\n",
      "Your branch and 'origin/master' have diverged,\r\n",
      "and have 1 and 4 different commits each, respectively.\r\n",
      "  (use \"git pull\" to merge the remote branch into yours)\r\n",
      "\r\n",
      "You have unmerged paths.\r\n",
      "  (fix conflicts and run \"git commit\")\r\n",
      "\r\n",
      "Changes to be committed:\r\n",
      "\r\n",
      "\t\u001b[32mnew file:   ../3.1 Ensemble methods - seminar and exercises.ipynb\u001b[m\r\n",
      "\t\u001b[32mnew file:   ../3.3 How to win at Kaggle.ipynb\u001b[m\r\n",
      "\t\u001b[32mnew file:   ../Manifold and decomposition.ipynb\u001b[m\r\n",
      "\t\u001b[32mnew file:   ../day_2/JoaquinVanchoren_OpenML.pdf\u001b[m\r\n",
      "\t\u001b[32mnew file:   ../day_4/lectures/DL_seminar0 (1).ipynb\u001b[m\r\n",
      "\t\u001b[32mnew file:   ../day_4/lectures/NNintro.odp\u001b[m\r\n",
      "\t\u001b[32mnew file:   ../day_4/lectures/NNintro.pdf\u001b[m\r\n",
      "\t\u001b[32mnew file:   ../day_4/seminars/deeplearning/notmnist.py~\u001b[m\r\n",
      "\t\u001b[32mnew file:   DL_seminar1.ipynb\u001b[m\r\n",
      "\r\n",
      "Unmerged paths:\r\n",
      "  (use \"git add <file>...\" to mark resolution)\r\n",
      "\r\n",
      "\t\u001b[31mboth modified:      ../day_2/basic_seminars/2.5 Overfitting - seminar and exercise.ipynb\u001b[m\r\n",
      "\r\n",
      "Changes not staged for commit:\r\n",
      "  (use \"git add <file>...\" to update what will be committed)\r\n",
      "  (use \"git checkout -- <file>...\" to discard changes in working directory)\r\n",
      "  (commit or discard the untracked or modified content in submodules)\r\n",
      "\r\n",
      "\t\u001b[31mmodified:   ../higgs_kaggle/mlhep2016\u001b[m (modified content, untracked content)\r\n",
      "\r\n",
      "Untracked files:\r\n",
      "  (use \"git add <file>...\" to include in what will be committed)\r\n",
      "\r\n",
      "\t\u001b[31m../Untitled.ipynb\u001b[m\r\n",
      "\t\u001b[31m../Untitled1.ipynb\u001b[m\r\n",
      "\t\u001b[31mCasual weaseling.ipynb\u001b[m\r\n",
      "\t\u001b[31mUntitled.ipynb\u001b[m\r\n",
      "\r\n"
     ]
    }
   ],
   "source": [
    "!git status"
   ]
  },
  {
   "cell_type": "code",
   "execution_count": null,
   "metadata": {
    "collapsed": true
   },
   "outputs": [],
   "source": []
  }
 ],
 "metadata": {
  "kernelspec": {
   "display_name": "Python 3",
   "language": "python",
   "name": "python3"
  },
  "language_info": {
   "codemirror_mode": {
    "name": "ipython",
    "version": 3
   },
   "file_extension": ".py",
   "mimetype": "text/x-python",
   "name": "python",
   "nbconvert_exporter": "python",
   "pygments_lexer": "ipython3",
   "version": "3.4.4"
  }
 },
 "nbformat": 4,
 "nbformat_minor": 0
}
