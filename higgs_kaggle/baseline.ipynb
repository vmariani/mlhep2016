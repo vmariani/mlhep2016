{
 "cells": [
  {
   "cell_type": "markdown",
   "metadata": {},
   "source": [
    "## About\n",
    "\n",
    "In this notebook we prepare a simple solution for the [kaggle challenge on higgs.](https://inclass.kaggle.com/c/mlhep-2016-higgs-detection)"
   ]
  },
  {
   "cell_type": "code",
   "execution_count": 1,
   "metadata": {
    "collapsed": true
   },
   "outputs": [],
   "source": [
    "%matplotlib inline"
   ]
  },
  {
   "cell_type": "code",
   "execution_count": 40,
   "metadata": {
    "collapsed": true
   },
   "outputs": [],
   "source": [
    "import matplotlib.pyplot as plt\n",
    "\n",
    "import pandas\n",
    "import numpy\n",
    "\n",
    "from sklearn.cross_validation import train_test_split\n",
    "from sklearn.metrics import roc_auc_score"
   ]
  },
  {
   "cell_type": "markdown",
   "metadata": {},
   "source": [
    "### Download data"
   ]
  },
  {
   "cell_type": "code",
   "execution_count": 3,
   "metadata": {
    "collapsed": false
   },
   "outputs": [
    {
     "name": "stdout",
     "output_type": "stream",
     "text": [
      "wget: /root/miniconda/envs/rep_py2/lib/libcrypto.so.1.0.0: no version information available (required by wget)\n",
      "wget: /root/miniconda/envs/rep_py2/lib/libssl.so.1.0.0: no version information available (required by wget)\n",
      "--2016-06-21 13:14:15--  https://2016.mlhep.yandex.net/data/higgs/public_train_10000.root\n",
      "Resolving 2016.mlhep.yandex.net (2016.mlhep.yandex.net)... 2a02:6b8::1:208\n",
      "Connecting to 2016.mlhep.yandex.net (2016.mlhep.yandex.net)|2a02:6b8::1:208|:443... connected.\n",
      "HTTP request sent, awaiting response... 200 OK\n",
      "Length: 932820 (911K) [application/octet-stream]\n",
      "Saving to: 'public_train_10000.root'\n",
      "\n",
      "100%[======================================>] 932,820     4.97MB/s   in 0.2s   \n",
      "\n",
      "2016-06-21 13:14:15 (4.97 MB/s) - 'public_train_10000.root' saved [932820/932820]\n",
      "\n"
     ]
    }
   ],
   "source": [
    "!cd datasets; wget -O public_train_10000.root -nc --no-check-certificate https://2016.mlhep.yandex.net/data/higgs/public_train_10000.root"
   ]
  },
  {
   "cell_type": "code",
   "execution_count": 4,
   "metadata": {
    "collapsed": true
   },
   "outputs": [],
   "source": [
    "# you can download training sample with 100000 available events\n",
    "# uncomment the below row\n",
    "# !cd datasets; wget -O public_train_100000.root -nc --no-check-certificate https://2016.mlhep.yandex.net/data/higgs/public_train_100000.root"
   ]
  },
  {
   "cell_type": "code",
   "execution_count": 4,
   "metadata": {
    "collapsed": false
   },
   "outputs": [
    {
     "name": "stdout",
     "output_type": "stream",
     "text": [
      "wget: /root/miniconda/envs/rep_py2/lib/libcrypto.so.1.0.0: no version information available (required by wget)\n",
      "wget: /root/miniconda/envs/rep_py2/lib/libssl.so.1.0.0: no version information available (required by wget)\n",
      "--2016-06-21 13:14:24--  https://2016.mlhep.yandex.net/data/higgs/public_test.root\n",
      "Resolving 2016.mlhep.yandex.net (2016.mlhep.yandex.net)... 2a02:6b8::1:208\n",
      "Connecting to 2016.mlhep.yandex.net (2016.mlhep.yandex.net)|2a02:6b8::1:208|:443... connected.\n",
      "HTTP request sent, awaiting response... 200 OK\n",
      "Length: 91931408 (88M) [application/octet-stream]\n",
      "Saving to: 'public_test.root'\n",
      "\n",
      "100%[======================================>] 91,931,408  3.52MB/s   in 15s    \n",
      "\n",
      "2016-06-21 13:14:39 (5.92 MB/s) - 'public_test.root' saved [91931408/91931408]\n",
      "\n"
     ]
    }
   ],
   "source": [
    "!cd datasets; wget -O public_test.root -nc --no-check-certificate https://2016.mlhep.yandex.net/data/higgs/public_test.root"
   ]
  },
  {
   "cell_type": "markdown",
   "metadata": {},
   "source": [
    "### Read the smallest part of training file and test file"
   ]
  },
  {
   "cell_type": "code",
   "execution_count": 41,
   "metadata": {
    "collapsed": false
   },
   "outputs": [],
   "source": [
    "import root_numpy\n",
    "data = pandas.DataFrame(root_numpy.root2array('datasets/public_train_10000.root'))\n",
    "test = pandas.DataFrame(root_numpy.root2array('datasets/public_test.root'))"
   ]
  },
  {
   "cell_type": "code",
   "execution_count": 12,
   "metadata": {
    "collapsed": false
   },
   "outputs": [
    {
     "data": {
      "text/html": [
       "<div>\n",
       "<table border=\"1\" class=\"dataframe\">\n",
       "  <thead>\n",
       "    <tr style=\"text-align: right;\">\n",
       "      <th></th>\n",
       "      <th>event_id</th>\n",
       "      <th>target</th>\n",
       "      <th>lepton_pt</th>\n",
       "      <th>lepton_eta</th>\n",
       "      <th>lepton_phi</th>\n",
       "      <th>mem_pt</th>\n",
       "      <th>mem_phi</th>\n",
       "      <th>jet1_pt</th>\n",
       "      <th>jet1_eta</th>\n",
       "      <th>jet1_phi</th>\n",
       "      <th>...</th>\n",
       "      <th>jet4_eta</th>\n",
       "      <th>jet4_phi</th>\n",
       "      <th>jet4_btag</th>\n",
       "      <th>m_jj</th>\n",
       "      <th>m_jjj</th>\n",
       "      <th>m_lv</th>\n",
       "      <th>m_jlv</th>\n",
       "      <th>m_bb</th>\n",
       "      <th>m_wbb</th>\n",
       "      <th>m_wwbb</th>\n",
       "    </tr>\n",
       "  </thead>\n",
       "  <tbody>\n",
       "    <tr>\n",
       "      <th>9995</th>\n",
       "      <td>1009996</td>\n",
       "      <td>0</td>\n",
       "      <td>67.422157</td>\n",
       "      <td>0.047600</td>\n",
       "      <td>-3.007553</td>\n",
       "      <td>200.084793</td>\n",
       "      <td>-2.974597</td>\n",
       "      <td>66.614967</td>\n",
       "      <td>-0.696843</td>\n",
       "      <td>-0.408659</td>\n",
       "      <td>...</td>\n",
       "      <td>-0.741136</td>\n",
       "      <td>0.230067</td>\n",
       "      <td>1.999937</td>\n",
       "      <td>76.811203</td>\n",
       "      <td>161.708084</td>\n",
       "      <td>78.077820</td>\n",
       "      <td>256.428406</td>\n",
       "      <td>72.724876</td>\n",
       "      <td>526.231079</td>\n",
       "      <td>613.824768</td>\n",
       "    </tr>\n",
       "    <tr>\n",
       "      <th>9996</th>\n",
       "      <td>1009997</td>\n",
       "      <td>1</td>\n",
       "      <td>51.150311</td>\n",
       "      <td>-1.093824</td>\n",
       "      <td>2.445759</td>\n",
       "      <td>27.797533</td>\n",
       "      <td>2.418964</td>\n",
       "      <td>95.235474</td>\n",
       "      <td>-1.425959</td>\n",
       "      <td>-1.110599</td>\n",
       "      <td>...</td>\n",
       "      <td>0.372612</td>\n",
       "      <td>1.641314</td>\n",
       "      <td>2.000016</td>\n",
       "      <td>53.564301</td>\n",
       "      <td>251.449097</td>\n",
       "      <td>79.853149</td>\n",
       "      <td>166.334030</td>\n",
       "      <td>116.160538</td>\n",
       "      <td>454.949677</td>\n",
       "      <td>603.809753</td>\n",
       "    </tr>\n",
       "    <tr>\n",
       "      <th>9997</th>\n",
       "      <td>1009998</td>\n",
       "      <td>1</td>\n",
       "      <td>103.452408</td>\n",
       "      <td>0.567229</td>\n",
       "      <td>-1.793182</td>\n",
       "      <td>8.399943</td>\n",
       "      <td>1.776589</td>\n",
       "      <td>78.138664</td>\n",
       "      <td>0.870871</td>\n",
       "      <td>2.157186</td>\n",
       "      <td>...</td>\n",
       "      <td>0.829123</td>\n",
       "      <td>0.376444</td>\n",
       "      <td>1.999937</td>\n",
       "      <td>82.334373</td>\n",
       "      <td>242.730377</td>\n",
       "      <td>81.179161</td>\n",
       "      <td>192.064148</td>\n",
       "      <td>128.377182</td>\n",
       "      <td>380.536560</td>\n",
       "      <td>551.422424</td>\n",
       "    </tr>\n",
       "    <tr>\n",
       "      <th>9998</th>\n",
       "      <td>1009999</td>\n",
       "      <td>0</td>\n",
       "      <td>33.855957</td>\n",
       "      <td>-1.052271</td>\n",
       "      <td>-1.106618</td>\n",
       "      <td>58.648544</td>\n",
       "      <td>2.709328</td>\n",
       "      <td>110.229721</td>\n",
       "      <td>-0.756250</td>\n",
       "      <td>-0.453936</td>\n",
       "      <td>...</td>\n",
       "      <td>-1.734020</td>\n",
       "      <td>-0.177169</td>\n",
       "      <td>0.000000</td>\n",
       "      <td>74.516708</td>\n",
       "      <td>158.312378</td>\n",
       "      <td>85.557083</td>\n",
       "      <td>188.449356</td>\n",
       "      <td>140.375320</td>\n",
       "      <td>264.731140</td>\n",
       "      <td>371.888153</td>\n",
       "    </tr>\n",
       "    <tr>\n",
       "      <th>9999</th>\n",
       "      <td>1010000</td>\n",
       "      <td>0</td>\n",
       "      <td>50.133038</td>\n",
       "      <td>1.523453</td>\n",
       "      <td>-0.665432</td>\n",
       "      <td>33.441067</td>\n",
       "      <td>-0.308206</td>\n",
       "      <td>91.515762</td>\n",
       "      <td>1.047847</td>\n",
       "      <td>-3.057928</td>\n",
       "      <td>...</td>\n",
       "      <td>-0.054658</td>\n",
       "      <td>-1.130095</td>\n",
       "      <td>0.000000</td>\n",
       "      <td>130.372681</td>\n",
       "      <td>238.136551</td>\n",
       "      <td>78.980865</td>\n",
       "      <td>175.673080</td>\n",
       "      <td>134.282303</td>\n",
       "      <td>377.124817</td>\n",
       "      <td>487.969818</td>\n",
       "    </tr>\n",
       "  </tbody>\n",
       "</table>\n",
       "<p>5 rows × 30 columns</p>\n",
       "</div>"
      ],
      "text/plain": [
       "      event_id  target   lepton_pt  lepton_eta  lepton_phi      mem_pt  \\\n",
       "9995   1009996       0   67.422157    0.047600   -3.007553  200.084793   \n",
       "9996   1009997       1   51.150311   -1.093824    2.445759   27.797533   \n",
       "9997   1009998       1  103.452408    0.567229   -1.793182    8.399943   \n",
       "9998   1009999       0   33.855957   -1.052271   -1.106618   58.648544   \n",
       "9999   1010000       0   50.133038    1.523453   -0.665432   33.441067   \n",
       "\n",
       "       mem_phi     jet1_pt  jet1_eta  jet1_phi     ...      jet4_eta  \\\n",
       "9995 -2.974597   66.614967 -0.696843 -0.408659     ...     -0.741136   \n",
       "9996  2.418964   95.235474 -1.425959 -1.110599     ...      0.372612   \n",
       "9997  1.776589   78.138664  0.870871  2.157186     ...      0.829123   \n",
       "9998  2.709328  110.229721 -0.756250 -0.453936     ...     -1.734020   \n",
       "9999 -0.308206   91.515762  1.047847 -3.057928     ...     -0.054658   \n",
       "\n",
       "      jet4_phi  jet4_btag        m_jj       m_jjj       m_lv       m_jlv  \\\n",
       "9995  0.230067   1.999937   76.811203  161.708084  78.077820  256.428406   \n",
       "9996  1.641314   2.000016   53.564301  251.449097  79.853149  166.334030   \n",
       "9997  0.376444   1.999937   82.334373  242.730377  81.179161  192.064148   \n",
       "9998 -0.177169   0.000000   74.516708  158.312378  85.557083  188.449356   \n",
       "9999 -1.130095   0.000000  130.372681  238.136551  78.980865  175.673080   \n",
       "\n",
       "            m_bb       m_wbb      m_wwbb  \n",
       "9995   72.724876  526.231079  613.824768  \n",
       "9996  116.160538  454.949677  603.809753  \n",
       "9997  128.377182  380.536560  551.422424  \n",
       "9998  140.375320  264.731140  371.888153  \n",
       "9999  134.282303  377.124817  487.969818  \n",
       "\n",
       "[5 rows x 30 columns]"
      ]
     },
     "execution_count": 12,
     "metadata": {},
     "output_type": "execute_result"
    }
   ],
   "source": [
    "data.tail(5)"
   ]
  },
  {
   "cell_type": "code",
   "execution_count": 13,
   "metadata": {
    "collapsed": false
   },
   "outputs": [
    {
     "data": {
      "text/html": [
       "<div>\n",
       "<table border=\"1\" class=\"dataframe\">\n",
       "  <thead>\n",
       "    <tr style=\"text-align: right;\">\n",
       "      <th></th>\n",
       "      <th>event_id</th>\n",
       "      <th>lepton_pt</th>\n",
       "      <th>lepton_eta</th>\n",
       "      <th>lepton_phi</th>\n",
       "      <th>mem_pt</th>\n",
       "      <th>mem_phi</th>\n",
       "      <th>jet1_pt</th>\n",
       "      <th>jet1_eta</th>\n",
       "      <th>jet1_phi</th>\n",
       "      <th>jet1_btag</th>\n",
       "      <th>...</th>\n",
       "      <th>jet4_eta</th>\n",
       "      <th>jet4_phi</th>\n",
       "      <th>jet4_btag</th>\n",
       "      <th>m_jj</th>\n",
       "      <th>m_jjj</th>\n",
       "      <th>m_lv</th>\n",
       "      <th>m_jlv</th>\n",
       "      <th>m_bb</th>\n",
       "      <th>m_wbb</th>\n",
       "      <th>m_wwbb</th>\n",
       "    </tr>\n",
       "  </thead>\n",
       "  <tbody>\n",
       "    <tr>\n",
       "      <th>999995</th>\n",
       "      <td>999996</td>\n",
       "      <td>38.523537</td>\n",
       "      <td>1.613885</td>\n",
       "      <td>2.399679</td>\n",
       "      <td>24.386349</td>\n",
       "      <td>-1.823904</td>\n",
       "      <td>131.737457</td>\n",
       "      <td>1.304169</td>\n",
       "      <td>0.566856</td>\n",
       "      <td>2.000016</td>\n",
       "      <td>...</td>\n",
       "      <td>-1.272945</td>\n",
       "      <td>-1.763102</td>\n",
       "      <td>0</td>\n",
       "      <td>50.397636</td>\n",
       "      <td>173.251953</td>\n",
       "      <td>80.654556</td>\n",
       "      <td>128.019440</td>\n",
       "      <td>45.258812</td>\n",
       "      <td>228.844803</td>\n",
       "      <td>332.475677</td>\n",
       "    </tr>\n",
       "    <tr>\n",
       "      <th>999996</th>\n",
       "      <td>999997</td>\n",
       "      <td>84.448395</td>\n",
       "      <td>-0.040267</td>\n",
       "      <td>-2.138890</td>\n",
       "      <td>109.964096</td>\n",
       "      <td>-2.481743</td>\n",
       "      <td>50.259148</td>\n",
       "      <td>0.308118</td>\n",
       "      <td>0.334005</td>\n",
       "      <td>2.000000</td>\n",
       "      <td>...</td>\n",
       "      <td>-1.504321</td>\n",
       "      <td>-0.673184</td>\n",
       "      <td>0</td>\n",
       "      <td>739.199829</td>\n",
       "      <td>759.189941</td>\n",
       "      <td>78.144287</td>\n",
       "      <td>224.591156</td>\n",
       "      <td>162.148849</td>\n",
       "      <td>1118.976562</td>\n",
       "      <td>1198.045410</td>\n",
       "    </tr>\n",
       "    <tr>\n",
       "      <th>999997</th>\n",
       "      <td>999998</td>\n",
       "      <td>74.043701</td>\n",
       "      <td>1.878494</td>\n",
       "      <td>-1.932999</td>\n",
       "      <td>14.821092</td>\n",
       "      <td>-2.809260</td>\n",
       "      <td>98.599503</td>\n",
       "      <td>0.788990</td>\n",
       "      <td>1.409131</td>\n",
       "      <td>0.999969</td>\n",
       "      <td>...</td>\n",
       "      <td>0.992709</td>\n",
       "      <td>2.613975</td>\n",
       "      <td>0</td>\n",
       "      <td>85.073784</td>\n",
       "      <td>193.475861</td>\n",
       "      <td>80.187050</td>\n",
       "      <td>224.686096</td>\n",
       "      <td>135.753372</td>\n",
       "      <td>301.967651</td>\n",
       "      <td>412.872284</td>\n",
       "    </tr>\n",
       "    <tr>\n",
       "      <th>999998</th>\n",
       "      <td>999999</td>\n",
       "      <td>66.171684</td>\n",
       "      <td>-0.474488</td>\n",
       "      <td>-0.988961</td>\n",
       "      <td>95.307686</td>\n",
       "      <td>0.535798</td>\n",
       "      <td>22.249971</td>\n",
       "      <td>-0.833418</td>\n",
       "      <td>-0.024798</td>\n",
       "      <td>2.000000</td>\n",
       "      <td>...</td>\n",
       "      <td>-0.230724</td>\n",
       "      <td>0.414533</td>\n",
       "      <td>0</td>\n",
       "      <td>401.818756</td>\n",
       "      <td>479.388855</td>\n",
       "      <td>107.272385</td>\n",
       "      <td>240.342514</td>\n",
       "      <td>82.365448</td>\n",
       "      <td>689.026123</td>\n",
       "      <td>928.406311</td>\n",
       "    </tr>\n",
       "    <tr>\n",
       "      <th>999999</th>\n",
       "      <td>1000000</td>\n",
       "      <td>37.521900</td>\n",
       "      <td>-0.121569</td>\n",
       "      <td>2.391588</td>\n",
       "      <td>52.437664</td>\n",
       "      <td>-1.680303</td>\n",
       "      <td>20.747028</td>\n",
       "      <td>0.949844</td>\n",
       "      <td>2.268789</td>\n",
       "      <td>0.000000</td>\n",
       "      <td>...</td>\n",
       "      <td>-1.977267</td>\n",
       "      <td>-2.999408</td>\n",
       "      <td>0</td>\n",
       "      <td>34.400902</td>\n",
       "      <td>177.565628</td>\n",
       "      <td>81.583229</td>\n",
       "      <td>113.103706</td>\n",
       "      <td>139.968231</td>\n",
       "      <td>265.002258</td>\n",
       "      <td>361.302765</td>\n",
       "    </tr>\n",
       "  </tbody>\n",
       "</table>\n",
       "<p>5 rows × 29 columns</p>\n",
       "</div>"
      ],
      "text/plain": [
       "        event_id  lepton_pt  lepton_eta  lepton_phi      mem_pt   mem_phi  \\\n",
       "999995    999996  38.523537    1.613885    2.399679   24.386349 -1.823904   \n",
       "999996    999997  84.448395   -0.040267   -2.138890  109.964096 -2.481743   \n",
       "999997    999998  74.043701    1.878494   -1.932999   14.821092 -2.809260   \n",
       "999998    999999  66.171684   -0.474488   -0.988961   95.307686  0.535798   \n",
       "999999   1000000  37.521900   -0.121569    2.391588   52.437664 -1.680303   \n",
       "\n",
       "           jet1_pt  jet1_eta  jet1_phi  jet1_btag     ...       jet4_eta  \\\n",
       "999995  131.737457  1.304169  0.566856   2.000016     ...      -1.272945   \n",
       "999996   50.259148  0.308118  0.334005   2.000000     ...      -1.504321   \n",
       "999997   98.599503  0.788990  1.409131   0.999969     ...       0.992709   \n",
       "999998   22.249971 -0.833418 -0.024798   2.000000     ...      -0.230724   \n",
       "999999   20.747028  0.949844  2.268789   0.000000     ...      -1.977267   \n",
       "\n",
       "        jet4_phi  jet4_btag        m_jj       m_jjj        m_lv       m_jlv  \\\n",
       "999995 -1.763102          0   50.397636  173.251953   80.654556  128.019440   \n",
       "999996 -0.673184          0  739.199829  759.189941   78.144287  224.591156   \n",
       "999997  2.613975          0   85.073784  193.475861   80.187050  224.686096   \n",
       "999998  0.414533          0  401.818756  479.388855  107.272385  240.342514   \n",
       "999999 -2.999408          0   34.400902  177.565628   81.583229  113.103706   \n",
       "\n",
       "              m_bb        m_wbb       m_wwbb  \n",
       "999995   45.258812   228.844803   332.475677  \n",
       "999996  162.148849  1118.976562  1198.045410  \n",
       "999997  135.753372   301.967651   412.872284  \n",
       "999998   82.365448   689.026123   928.406311  \n",
       "999999  139.968231   265.002258   361.302765  \n",
       "\n",
       "[5 rows x 29 columns]"
      ]
     },
     "execution_count": 13,
     "metadata": {},
     "output_type": "execute_result"
    }
   ],
   "source": [
    "test.tail(5)"
   ]
  },
  {
   "cell_type": "markdown",
   "metadata": {},
   "source": [
    "### Define training features\n",
    "\n",
    "Exclude `event_id`, `target` from the features set"
   ]
  },
  {
   "cell_type": "code",
   "execution_count": 42,
   "metadata": {
    "collapsed": false
   },
   "outputs": [
    {
     "data": {
      "text/plain": [
       "['jet3_pt',\n",
       " 'jet3_eta',\n",
       " 'm_jjj',\n",
       " 'mem_phi',\n",
       " 'jet1_pt',\n",
       " 'jet4_phi',\n",
       " 'jet1_phi',\n",
       " 'jet2_eta',\n",
       " 'jet3_btag',\n",
       " 'm_jlv',\n",
       " 'm_wbb',\n",
       " 'jet4_pt',\n",
       " 'jet4_btag',\n",
       " 'jet2_pt',\n",
       " 'jet1_btag',\n",
       " 'm_jj',\n",
       " 'm_wwbb',\n",
       " 'jet2_phi',\n",
       " 'lepton_phi',\n",
       " 'm_bb',\n",
       " 'm_lv',\n",
       " 'jet4_eta',\n",
       " 'jet2_btag',\n",
       " 'lepton_pt',\n",
       " 'mem_pt',\n",
       " 'lepton_eta',\n",
       " 'jet3_phi',\n",
       " 'jet1_eta']"
      ]
     },
     "execution_count": 42,
     "metadata": {},
     "output_type": "execute_result"
    }
   ],
   "source": [
    "features = list(set(data.columns) - {'event_id', 'target'})\n",
    "features"
   ]
  },
  {
   "cell_type": "code",
   "execution_count": null,
   "metadata": {
    "collapsed": true
   },
   "outputs": [],
   "source": []
  },
  {
   "cell_type": "code",
   "execution_count": null,
   "metadata": {
    "collapsed": false
   },
   "outputs": [],
   "source": []
  },
  {
   "cell_type": "markdown",
   "metadata": {},
   "source": [
    "### Prepare high-level features for training"
   ]
  },
  {
   "cell_type": "code",
   "execution_count": 157,
   "metadata": {
    "collapsed": false
   },
   "outputs": [],
   "source": [
    "high_level_features = ['m_jlv', 'm_wwbb', 'm_bb', 'm_wbb', 'm_lv', ]"
   ]
  },
  {
   "cell_type": "markdown",
   "metadata": {},
   "source": [
    "### Plot histograms for each high-level feature"
   ]
  },
  {
   "cell_type": "code",
   "execution_count": 158,
   "metadata": {
    "collapsed": false
   },
   "outputs": [
    {
     "data": {
      "image/png": "[encoded data removed]",
      "text/plain": [
       "<matplotlib.figure.Figure at 0x7fc9f828af90>"
      ]
     },
     "metadata": {},
     "output_type": "display_data"
    }
   ],
   "source": [
    "hist_params = {'normed': True, 'bins': 60, 'alpha': 0.4}\n",
    "# create the figure\n",
    "plt.figure(figsize=(16, 25))\n",
    "for n, feature in enumerate(high_level_features):\n",
    "    # add sub plot on our figure\n",
    "    plt.subplot(len(features) // 5 + 1, 3, n+1)\n",
    "    # define range for histograms by cutting 1% of data from both ends\n",
    "    min_value, max_value = numpy.percentile(data[feature], [1, 99])\n",
    "    plt.hist(data.ix[data.target.values == 0, feature].values, range=(min_value, max_value), \n",
    "             label='class 0', **hist_params)\n",
    "    plt.hist(data.ix[data.target.values == 1, feature].values, range=(min_value, max_value), \n",
    "             label='class 1', **hist_params)\n",
    "    plt.legend(loc='best')\n",
    "    plt.title(feature)"
   ]
  },
  {
   "cell_type": "markdown",
   "metadata": {},
   "source": [
    "### Divide training data into 2 parts \n",
    "`train_test_split` function is used to divide into 2 parts to preserve quality overestimating."
   ]
  },
  {
   "cell_type": "code",
   "execution_count": 177,
   "metadata": {
    "collapsed": false
   },
   "outputs": [],
   "source": [
    "training_data, validation_data = train_test_split(data, random_state=21, train_size=0.66)"
   ]
  },
  {
   "cell_type": "markdown",
   "metadata": {},
   "source": [
    "### Simple knn from `sklearn` training"
   ]
  },
  {
   "cell_type": "code",
   "execution_count": 160,
   "metadata": {
    "collapsed": false
   },
   "outputs": [],
   "source": [
    "#from sklearn.neighbors import KNeighborsClassifier\n",
    "#knn = KNeighborsClassifier(n_neighbors=6)\n",
    "#knn.fit(training_data[high_level_features], training_data.target)"
   ]
  },
  {
   "cell_type": "code",
   "execution_count": 178,
   "metadata": {
    "collapsed": false
   },
   "outputs": [
    {
     "data": {
      "text/plain": [
       "DecisionTreeClassifier(class_weight=None, criterion='gini', max_depth=10,\n",
       "            max_features=None, max_leaf_nodes=None, min_samples_leaf=1,\n",
       "            min_samples_split=2, min_weight_fraction_leaf=0.0,\n",
       "            random_state=None, splitter='best')"
      ]
     },
     "execution_count": 178,
     "metadata": {},
     "output_type": "execute_result"
    }
   ],
   "source": [
    "#BoostDecisionTree\n",
    "#from sklearn.ensemble import GradientBoostingClassifier\n",
    "#BDT = GradientBoostingClassifier(init=None, learning_rate=0.10, loss='deviance',\n",
    "#              max_depth=3, max_features=None, max_leaf_nodes=None,\n",
    "#              min_samples_leaf=1, min_samples_split=4,\n",
    "#              min_weight_fraction_leaf=0.01, n_estimators=100,\n",
    "#              random_state=None, subsample=1.0, verbose=0,\n",
    "#              warm_start=False)\n",
    "#BDT.fit(training_data[high_level_features], training_data.target)\n",
    "\n",
    "#simple DecisionTree\n",
    "from sklearn.tree import DecisionTreeClassifier\n",
    "tree = DecisionTreeClassifier(class_weight=None, criterion='gini', max_depth=10,\n",
    "            max_features=None, max_leaf_nodes=None, min_samples_leaf=1,\n",
    "            min_samples_split=2, min_weight_fraction_leaf=0.0,\n",
    "            random_state=None, splitter='best')\n",
    "tree.fit(training_data[high_level_features], training_data.target)"
   ]
  },
  {
   "cell_type": "code",
   "execution_count": 180,
   "metadata": {
    "collapsed": true
   },
   "outputs": [],
   "source": [
    "proba = tree.predict_proba(validation_data[high_level_features])"
   ]
  },
  {
   "cell_type": "code",
   "execution_count": 181,
   "metadata": {
    "collapsed": false
   },
   "outputs": [
    {
     "data": {
      "text/plain": [
       "array([[ 0.5       ,  0.5       ],\n",
       "       [ 0.06666667,  0.93333333],\n",
       "       [ 0.12727273,  0.87272727],\n",
       "       ..., \n",
       "       [ 0.41428571,  0.58571429],\n",
       "       [ 0.21296296,  0.78703704],\n",
       "       [ 0.12      ,  0.88      ]])"
      ]
     },
     "execution_count": 181,
     "metadata": {},
     "output_type": "execute_result"
    }
   ],
   "source": [
    "proba"
   ]
  },
  {
   "cell_type": "markdown",
   "metadata": {},
   "source": [
    "### Compute quality (ROC AUC) on the validation set (to prevent overestimating quality)"
   ]
  },
  {
   "cell_type": "code",
   "execution_count": 182,
   "metadata": {
    "collapsed": false
   },
   "outputs": [
    {
     "data": {
      "text/plain": [
       "0.64661207869258519"
      ]
     },
     "execution_count": 182,
     "metadata": {},
     "output_type": "execute_result"
    }
   ],
   "source": [
    "# take probability to be 1 class to compute ROC AUC\n",
    "roc_auc_score(validation_data.target, proba[:, 1])"
   ]
  },
  {
   "cell_type": "markdown",
   "metadata": {},
   "source": [
    "## Prepare submission to kaggle"
   ]
  },
  {
   "cell_type": "code",
   "execution_count": 183,
   "metadata": {
    "collapsed": false
   },
   "outputs": [],
   "source": [
    "# predict test sample\n",
    "kaggle_proba = knn.predict_proba(test[high_level_features])[:, 1]\n",
    "kaggle_ids = test.event_id"
   ]
  },
  {
   "cell_type": "code",
   "execution_count": 18,
   "metadata": {
    "collapsed": false
   },
   "outputs": [
    {
     "data": {
      "text/html": [
       "<a href='datasets/baseline.csv' target='_blank'>datasets/baseline.csv</a><br>"
      ],
      "text/plain": [
       "/Users/antares/Yandex.Disk.localized/projects/MLHEP/mlhep2016/higgs_kaggle/datasets/baseline.csv"
      ]
     },
     "execution_count": 18,
     "metadata": {},
     "output_type": "execute_result"
    }
   ],
   "source": [
    "from IPython.display import FileLink\n",
    "def create_solution(ids, proba, filename='baseline.csv'):\n",
    "    \"\"\"saves predictions to file and provides a link for downloading \"\"\"\n",
    "    pandas.DataFrame({'event_id': ids, 'prediction': proba}).to_csv('datasets/{}'.format(filename), index=False)\n",
    "    return FileLink('datasets/{}'.format(filename))\n",
    "    \n",
    "create_solution(kaggle_ids, kaggle_proba)"
   ]
  }
 ],
 "metadata": {
  "kernelspec": {
   "display_name": "Python 2",
   "language": "python",
   "name": "python2"
  },
  "language_info": {
   "codemirror_mode": {
    "name": "ipython",
    "version": 2
   },
   "file_extension": ".py",
   "mimetype": "text/x-python",
   "name": "python",
   "nbconvert_exporter": "python",
   "pygments_lexer": "ipython2",
   "version": "2.7.11"
  }
 },
 "nbformat": 4,
 "nbformat_minor": 0
}
