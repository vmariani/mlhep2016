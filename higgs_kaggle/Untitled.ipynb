{
 "cells": [
  {
   "cell_type": "code",
   "execution_count": 1,
   "metadata": {
    "collapsed": false
   },
   "outputs": [
    {
     "name": "stdout",
     "output_type": "stream",
     "text": [
      "Cloning into 'mlhep2016'...\n",
      "remote: Counting objects: 345, done.\u001b[K\n",
      "remote: Compressing objects: 100% (83/83), done.\u001b[K\n",
      "remote: Total 345 (delta 24), reused 0 (delta 0), pack-reused 259\u001b[K\n",
      "Receiving objects: 100% (345/345), 155.30 MiB | 20.19 MiB/s, done.\n",
      "Resolving deltas: 100% (127/127), done.\n",
      "Checking connectivity... done.\n"
     ]
    }
   ],
   "source": [
    "!git clone http://github.com/yandexdataschool/mlhep2016"
   ]
  },
  {
   "cell_type": "code",
   "execution_count": 2,
   "metadata": {
    "collapsed": false
   },
   "outputs": [
    {
     "name": "stdout",
     "output_type": "stream",
     "text": [
      "remote: Counting objects: 114, done.\u001b[K\n",
      "remote: Compressing objects: 100% (83/83), done.\u001b[K\n",
      "remote: Total 114 (delta 32), reused 8 (delta 8), pack-reused 20\u001b[K\n",
      "Receiving objects: 100% (114/114), 21.60 MiB | 3.94 MiB/s, done.\n",
      "Resolving deltas: 100% (33/33), completed with 2 local objects.\n",
      "From https://github.com/yandexdataschool/mlhep2016\n",
      "   b219111..e214fa4  master     -> origin/master\n",
      "Updating b219111..e214fa4\n",
      "Fast-forward\n",
      " .gitignore                                         |    1 \u001b[32m+\u001b[m\n",
      " README.md                                          |    7 \u001b[32m+\u001b[m\u001b[31m-\u001b[m\n",
      " day_2/avanced_lectures/research_reproducibilty.pdf |  Bin \u001b[31m0\u001b[m -> \u001b[32m4977176\u001b[m bytes\n",
      " .../290515_EwenG_comet_at_yandex.pdf               |  Bin \u001b[31m0\u001b[m -> \u001b[32m3687024\u001b[m bytes\n",
      " .../Borisyak_Artificial_Retina.pdf                 |  Bin \u001b[31m0\u001b[m -> \u001b[32m943158\u001b[m bytes\n",
      " .../advanced_lectures/MLHEP_tracks_recognition.pdf |  Bin \u001b[31m0\u001b[m -> \u001b[32m5320629\u001b[m bytes\n",
      " day_3/advanced_lectures/demo.pdf                   |  Bin \u001b[31m0\u001b[m -> \u001b[32m594809\u001b[m bytes\n",
      " .../Notebooks/DenbyPeterson.ipynb                  |  935 \u001b[32m++++++++++\u001b[m\n",
      " .../Notebooks/HoughTransform.ipynb                 |  739 \u001b[32m++++++++\u001b[m\n",
      " .../advanced_seminars/Notebooks/KalmanFilter.ipynb |  273 \u001b[32m+++\u001b[m\n",
      " .../Notebooks/NaiveTrackFollowing.ipynb            |  970 \u001b[32m++++++++++\u001b[m\n",
      " day_3/advanced_seminars/Notebooks/RANSAC.ipynb     |  407 \u001b[32m++++\u001b[m\n",
      " .../Notebooks/RadonTransform.ipynb                 |  208 \u001b[32m+++\u001b[m\n",
      " day_3/advanced_seminars/Notebooks/Seminar1.ipynb   | 1939 \u001b[32m++++++++++++++++++++\u001b[m\n",
      " day_3/advanced_seminars/Notebooks/Seminar2.ipynb   |  620 \u001b[32m+++++++\u001b[m\n",
      " .../Notebooks/Seminar2Answer.ipynb                 |  784 \u001b[32m++++++++\u001b[m\n",
      " .../Notebooks/SimpleTemplateMatching.ipynb         |  614 \u001b[32m+++++++\u001b[m\n",
      " .../Notebooks/data_generation.ipynb                |  298 \u001b[32m+++\u001b[m\n",
      " day_3/advanced_seminars/code/.idea/.name           |    1 \u001b[32m+\u001b[m\n",
      " day_3/advanced_seminars/code/.idea/code.iml        |    8 \u001b[32m+\u001b[m\n",
      " day_3/advanced_seminars/code/.idea/encodings.xml   |    4 \u001b[32m+\u001b[m\n",
      " .../.idea/inspectionProfiles/Project_Default.xml   |   29 \u001b[32m+\u001b[m\n",
      " .../.idea/inspectionProfiles/profiles_settings.xml |    7 \u001b[32m+\u001b[m\n",
      " day_3/advanced_seminars/code/.idea/misc.xml        |   27 \u001b[32m+\u001b[m\n",
      " day_3/advanced_seminars/code/.idea/modules.xml     |    8 \u001b[32m+\u001b[m\n",
      " .../code/.idea/scopes/scope_settings.xml           |    5 \u001b[32m+\u001b[m\n",
      " day_3/advanced_seminars/code/.idea/vcs.xml         |    6 \u001b[32m+\u001b[m\n",
      " day_3/advanced_seminars/code/.idea/workspace.xml   |  830 \u001b[32m+++++++++\u001b[m\n",
      " day_3/advanced_seminars/code/DenbyPeterson.py      |  510 \u001b[32m+++++\u001b[m\n",
      " day_3/advanced_seminars/code/KalmanFilter.py       |  177 \u001b[32m++\u001b[m\n",
      " .../code/LinearNaiveTrackFollowing.py              |   98 \u001b[32m+\u001b[m\n",
      " day_3/advanced_seminars/code/RANSAC.py             |   25 \u001b[32m+\u001b[m\n",
      " day_3/advanced_seminars/code/TemplateMatching.py   |  131 \u001b[32m++\u001b[m\n",
      " day_3/advanced_seminars/code/for_seminars.py       |  299 \u001b[32m+++\u001b[m\n",
      " day_3/advanced_seminars/code/hough.py              |  136 \u001b[32m++\u001b[m\n",
      " day_3/advanced_seminars/code/metrics.py            |  174 \u001b[32m++\u001b[m\n",
      " day_3/advanced_seminars/code/seminars_utils.py     |  192 \u001b[32m++\u001b[m\n",
      " day_3/advanced_seminars/code/utils.py              |  272 \u001b[32m+++\u001b[m\n",
      " day_3/basic_lectures/Lectures56.pdf                |  Bin \u001b[31m0\u001b[m -> \u001b[32m6799094\u001b[m bytes\n",
      " .../basic_seminars/3.1 How to win at Kaggle.ipynb  |   93 \u001b[32m+\u001b[m\n",
      " .../3.2 Manifold and decomposition.ipynb           |  525 \u001b[32m++++++\u001b[m\n",
      " ... Ensemble methods - seminar and exercises.ipynb |  555 \u001b[32m++++++\u001b[m\n",
      " day_3/glouppe-approximating-llr.pdf                |  Bin \u001b[31m0\u001b[m -> \u001b[32m2791026\u001b[m bytes\n",
      " 43 files changed, 11905 insertions(+), 2 deletions(-)\n",
      " create mode 100644 day_2/avanced_lectures/research_reproducibilty.pdf\n",
      " create mode 100755 day_3/advanced_lectures/290515_EwenG_comet_at_yandex.pdf\n",
      " create mode 100644 day_3/advanced_lectures/Borisyak_Artificial_Retina.pdf\n",
      " create mode 100644 day_3/advanced_lectures/MLHEP_tracks_recognition.pdf\n",
      " create mode 100644 day_3/advanced_lectures/demo.pdf\n",
      " create mode 100644 day_3/advanced_seminars/Notebooks/DenbyPeterson.ipynb\n",
      " create mode 100644 day_3/advanced_seminars/Notebooks/HoughTransform.ipynb\n",
      " create mode 100644 day_3/advanced_seminars/Notebooks/KalmanFilter.ipynb\n",
      " create mode 100644 day_3/advanced_seminars/Notebooks/NaiveTrackFollowing.ipynb\n",
      " create mode 100644 day_3/advanced_seminars/Notebooks/RANSAC.ipynb\n",
      " create mode 100644 day_3/advanced_seminars/Notebooks/RadonTransform.ipynb\n",
      " create mode 100644 day_3/advanced_seminars/Notebooks/Seminar1.ipynb\n",
      " create mode 100644 day_3/advanced_seminars/Notebooks/Seminar2.ipynb\n",
      " create mode 100644 day_3/advanced_seminars/Notebooks/Seminar2Answer.ipynb\n",
      " create mode 100644 day_3/advanced_seminars/Notebooks/SimpleTemplateMatching.ipynb\n",
      " create mode 100644 day_3/advanced_seminars/Notebooks/data_generation.ipynb\n",
      " create mode 100644 day_3/advanced_seminars/code/.idea/.name\n",
      " create mode 100644 day_3/advanced_seminars/code/.idea/code.iml\n",
      " create mode 100644 day_3/advanced_seminars/code/.idea/encodings.xml\n",
      " create mode 100644 day_3/advanced_seminars/code/.idea/inspectionProfiles/Project_Default.xml\n",
      " create mode 100644 day_3/advanced_seminars/code/.idea/inspectionProfiles/profiles_settings.xml\n",
      " create mode 100644 day_3/advanced_seminars/code/.idea/misc.xml\n",
      " create mode 100644 day_3/advanced_seminars/code/.idea/modules.xml\n",
      " create mode 100644 day_3/advanced_seminars/code/.idea/scopes/scope_settings.xml\n",
      " create mode 100644 day_3/advanced_seminars/code/.idea/vcs.xml\n",
      " create mode 100644 day_3/advanced_seminars/code/.idea/workspace.xml\n",
      " create mode 100644 day_3/advanced_seminars/code/DenbyPeterson.py\n",
      " create mode 100644 day_3/advanced_seminars/code/KalmanFilter.py\n",
      " create mode 100644 day_3/advanced_seminars/code/LinearNaiveTrackFollowing.py\n",
      " create mode 100644 day_3/advanced_seminars/code/RANSAC.py\n",
      " create mode 100644 day_3/advanced_seminars/code/TemplateMatching.py\n",
      " create mode 100644 day_3/advanced_seminars/code/for_seminars.py\n",
      " create mode 100644 day_3/advanced_seminars/code/hough.py\n",
      " create mode 100644 day_3/advanced_seminars/code/metrics.py\n",
      " create mode 100644 day_3/advanced_seminars/code/seminars_utils.py\n",
      " create mode 100644 day_3/advanced_seminars/code/utils.py\n",
      " create mode 100644 day_3/basic_lectures/Lectures56.pdf\n",
      " create mode 100644 day_3/basic_seminars/3.1 How to win at Kaggle.ipynb\n",
      " create mode 100644 day_3/basic_seminars/3.2 Manifold and decomposition.ipynb\n",
      " create mode 100644 day_3/basic_seminars/3.3 Ensemble methods - seminar and exercises.ipynb\n",
      " create mode 100644 day_3/glouppe-approximating-llr.pdf\n"
     ]
    }
   ],
   "source": [
    "!git pull"
   ]
  },
  {
   "cell_type": "code",
   "execution_count": null,
   "metadata": {
    "collapsed": true
   },
   "outputs": [],
   "source": []
  }
 ],
 "metadata": {
  "kernelspec": {
   "display_name": "Python 2",
   "language": "python",
   "name": "python2"
  },
  "language_info": {
   "codemirror_mode": {
    "name": "ipython",
    "version": 2
   },
   "file_extension": ".py",
   "mimetype": "text/x-python",
   "name": "python",
   "nbconvert_exporter": "python",
   "pygments_lexer": "ipython2",
   "version": "2.7.11"
  }
 },
 "nbformat": 4,
 "nbformat_minor": 0
}
